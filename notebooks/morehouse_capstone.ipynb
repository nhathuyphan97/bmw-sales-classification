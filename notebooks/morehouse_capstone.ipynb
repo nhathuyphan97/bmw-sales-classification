{
  "nbformat": 4,
  "nbformat_minor": 0,
  "metadata": {
    "colab": {
      "provenance": [],
      "collapsed_sections": [
        "N976VF08PA0W"
      ]
    },
    "kernelspec": {
      "name": "python3",
      "display_name": "Python 3"
    },
    "language_info": {
      "name": "python"
    }
  },
  "cells": [
    {
      "cell_type": "code",
      "source": [
        "!pip install imbalanced-learn\n",
        "!pip install xgboost"
      ],
      "metadata": {
        "id": "6Vg3ZmnLCI0o",
        "colab": {
          "base_uri": "https://localhost:8080/"
        },
        "outputId": "c7f43d1f-1ff5-44d5-abc5-626763e9332e"
      },
      "execution_count": 1,
      "outputs": [
        {
          "output_type": "stream",
          "name": "stdout",
          "text": [
            "Requirement already satisfied: imbalanced-learn in /usr/local/lib/python3.12/dist-packages (0.14.0)\n",
            "Requirement already satisfied: numpy<3,>=1.25.2 in /usr/local/lib/python3.12/dist-packages (from imbalanced-learn) (2.0.2)\n",
            "Requirement already satisfied: scipy<2,>=1.11.4 in /usr/local/lib/python3.12/dist-packages (from imbalanced-learn) (1.16.1)\n",
            "Requirement already satisfied: scikit-learn<2,>=1.4.2 in /usr/local/lib/python3.12/dist-packages (from imbalanced-learn) (1.6.1)\n",
            "Requirement already satisfied: joblib<2,>=1.2.0 in /usr/local/lib/python3.12/dist-packages (from imbalanced-learn) (1.5.1)\n",
            "Requirement already satisfied: threadpoolctl<4,>=2.0.0 in /usr/local/lib/python3.12/dist-packages (from imbalanced-learn) (3.6.0)\n",
            "Requirement already satisfied: xgboost in /usr/local/lib/python3.12/dist-packages (3.0.4)\n",
            "Requirement already satisfied: numpy in /usr/local/lib/python3.12/dist-packages (from xgboost) (2.0.2)\n",
            "Requirement already satisfied: nvidia-nccl-cu12 in /usr/local/lib/python3.12/dist-packages (from xgboost) (2.27.3)\n",
            "Requirement already satisfied: scipy in /usr/local/lib/python3.12/dist-packages (from xgboost) (1.16.1)\n"
          ]
        }
      ]
    },
    {
      "cell_type": "code",
      "source": [
        "import kagglehub\n",
        "import pandas as pd\n",
        "import os\n",
        "import numpy as np\n",
        "import matplotlib.pyplot as plt\n",
        "\n",
        "from sklearn.metrics import precision_score, recall_score, f1_score, precision_recall_fscore_support\n",
        "from sklearn.model_selection import train_test_split\n",
        "from sklearn.preprocessing import OneHotEncoder # use OneHotEncoder instead of LabelEncoder since there is no order or distance between categories\n",
        "from sklearn.preprocessing import StandardScaler\n",
        "from sklearn.compose import ColumnTransformer # lets you apply different processing steps to different columns in a single pipeline\n",
        "# Its purpose is to handle mixed data types (numeric, categorical, text) without mannually splitting the dataset\n",
        "\n",
        "from sklearn.pipeline import Pipeline\n",
        "from sklearn.linear_model import LogisticRegression\n",
        "from sklearn.tree import DecisionTreeClassifier\n",
        "from sklearn.ensemble import RandomForestClassifier\n",
        "from sklearn.metrics import classification_report, confusion_matrix\n",
        "from sklearn.model_selection import GridSearchCV\n",
        "\n",
        "from imblearn.over_sampling import SMOTE\n",
        "\n",
        "from xgboost import XGBClassifier"
      ],
      "metadata": {
        "id": "mfmEgSppftoW"
      },
      "execution_count": 2,
      "outputs": []
    },
    {
      "cell_type": "code",
      "execution_count": 3,
      "metadata": {
        "id": "MhLaGpGEfCZt",
        "colab": {
          "base_uri": "https://localhost:8080/"
        },
        "outputId": "aa0dc842-3510-4c81-b9f6-d3ea90dd0871"
      },
      "outputs": [
        {
          "output_type": "stream",
          "name": "stdout",
          "text": [
            "['BMW sales data (2010-2024).csv']\n"
          ]
        }
      ],
      "source": [
        "# Download latest version\n",
        "path = kagglehub.dataset_download(\"y0ussefkandil/bmw-sales2010-2024\")\n",
        "\n",
        "print(os.listdir(path))"
      ]
    },
    {
      "cell_type": "code",
      "source": [
        "# pick the CSV in the folder\n",
        "csvs = [f for f in os.listdir(path) if f.lower().endswith(\".csv\")]\n",
        "assert csvs, \"No CSV found in the dataset folder.\"\n",
        "file_path = os.path.join(path, csvs[0])           # or use the exact name seen above\n",
        "print(\"Loading:\", file_path)"
      ],
      "metadata": {
        "id": "hPDt8AdGfxZ5",
        "colab": {
          "base_uri": "https://localhost:8080/"
        },
        "outputId": "50a3c81d-099f-4487-9d66-07aa7778f734"
      },
      "execution_count": 4,
      "outputs": [
        {
          "output_type": "stream",
          "name": "stdout",
          "text": [
            "Loading: /kaggle/input/bmw-sales2010-2024/BMW sales data (2010-2024).csv\n"
          ]
        }
      ]
    },
    {
      "cell_type": "code",
      "source": [
        "bmw_df = pd.read_csv(file_path)\n",
        "bmw_df.head()"
      ],
      "metadata": {
        "id": "WJOT3v-CgRfj",
        "colab": {
          "base_uri": "https://localhost:8080/",
          "height": 206
        },
        "outputId": "f48882bf-05d1-4403-d66e-e1b865498890"
      },
      "execution_count": 5,
      "outputs": [
        {
          "output_type": "execute_result",
          "data": {
            "text/plain": [
              "      Model  Year         Region  Color Fuel_Type Transmission  Engine_Size_L  \\\n",
              "0  5 Series  2016           Asia    Red    Petrol       Manual            3.5   \n",
              "1        i8  2013  North America    Red    Hybrid    Automatic            1.6   \n",
              "2  5 Series  2022  North America   Blue    Petrol    Automatic            4.5   \n",
              "3        X3  2024    Middle East   Blue    Petrol    Automatic            1.7   \n",
              "4  7 Series  2020  South America  Black    Diesel       Manual            2.1   \n",
              "\n",
              "   Mileage_KM  Price_USD  Sales_Volume Sales_Classification  \n",
              "0      151748      98740          8300                 High  \n",
              "1      121671      79219          3428                  Low  \n",
              "2       10991     113265          6994                  Low  \n",
              "3       27255      60971          4047                  Low  \n",
              "4      122131      49898          3080                  Low  "
            ],
            "text/html": [
              "\n",
              "  <div id=\"df-31f09315-3416-41ce-b1a7-92366c83c26e\" class=\"colab-df-container\">\n",
              "    <div>\n",
              "<style scoped>\n",
              "    .dataframe tbody tr th:only-of-type {\n",
              "        vertical-align: middle;\n",
              "    }\n",
              "\n",
              "    .dataframe tbody tr th {\n",
              "        vertical-align: top;\n",
              "    }\n",
              "\n",
              "    .dataframe thead th {\n",
              "        text-align: right;\n",
              "    }\n",
              "</style>\n",
              "<table border=\"1\" class=\"dataframe\">\n",
              "  <thead>\n",
              "    <tr style=\"text-align: right;\">\n",
              "      <th></th>\n",
              "      <th>Model</th>\n",
              "      <th>Year</th>\n",
              "      <th>Region</th>\n",
              "      <th>Color</th>\n",
              "      <th>Fuel_Type</th>\n",
              "      <th>Transmission</th>\n",
              "      <th>Engine_Size_L</th>\n",
              "      <th>Mileage_KM</th>\n",
              "      <th>Price_USD</th>\n",
              "      <th>Sales_Volume</th>\n",
              "      <th>Sales_Classification</th>\n",
              "    </tr>\n",
              "  </thead>\n",
              "  <tbody>\n",
              "    <tr>\n",
              "      <th>0</th>\n",
              "      <td>5 Series</td>\n",
              "      <td>2016</td>\n",
              "      <td>Asia</td>\n",
              "      <td>Red</td>\n",
              "      <td>Petrol</td>\n",
              "      <td>Manual</td>\n",
              "      <td>3.5</td>\n",
              "      <td>151748</td>\n",
              "      <td>98740</td>\n",
              "      <td>8300</td>\n",
              "      <td>High</td>\n",
              "    </tr>\n",
              "    <tr>\n",
              "      <th>1</th>\n",
              "      <td>i8</td>\n",
              "      <td>2013</td>\n",
              "      <td>North America</td>\n",
              "      <td>Red</td>\n",
              "      <td>Hybrid</td>\n",
              "      <td>Automatic</td>\n",
              "      <td>1.6</td>\n",
              "      <td>121671</td>\n",
              "      <td>79219</td>\n",
              "      <td>3428</td>\n",
              "      <td>Low</td>\n",
              "    </tr>\n",
              "    <tr>\n",
              "      <th>2</th>\n",
              "      <td>5 Series</td>\n",
              "      <td>2022</td>\n",
              "      <td>North America</td>\n",
              "      <td>Blue</td>\n",
              "      <td>Petrol</td>\n",
              "      <td>Automatic</td>\n",
              "      <td>4.5</td>\n",
              "      <td>10991</td>\n",
              "      <td>113265</td>\n",
              "      <td>6994</td>\n",
              "      <td>Low</td>\n",
              "    </tr>\n",
              "    <tr>\n",
              "      <th>3</th>\n",
              "      <td>X3</td>\n",
              "      <td>2024</td>\n",
              "      <td>Middle East</td>\n",
              "      <td>Blue</td>\n",
              "      <td>Petrol</td>\n",
              "      <td>Automatic</td>\n",
              "      <td>1.7</td>\n",
              "      <td>27255</td>\n",
              "      <td>60971</td>\n",
              "      <td>4047</td>\n",
              "      <td>Low</td>\n",
              "    </tr>\n",
              "    <tr>\n",
              "      <th>4</th>\n",
              "      <td>7 Series</td>\n",
              "      <td>2020</td>\n",
              "      <td>South America</td>\n",
              "      <td>Black</td>\n",
              "      <td>Diesel</td>\n",
              "      <td>Manual</td>\n",
              "      <td>2.1</td>\n",
              "      <td>122131</td>\n",
              "      <td>49898</td>\n",
              "      <td>3080</td>\n",
              "      <td>Low</td>\n",
              "    </tr>\n",
              "  </tbody>\n",
              "</table>\n",
              "</div>\n",
              "    <div class=\"colab-df-buttons\">\n",
              "\n",
              "  <div class=\"colab-df-container\">\n",
              "    <button class=\"colab-df-convert\" onclick=\"convertToInteractive('df-31f09315-3416-41ce-b1a7-92366c83c26e')\"\n",
              "            title=\"Convert this dataframe to an interactive table.\"\n",
              "            style=\"display:none;\">\n",
              "\n",
              "  <svg xmlns=\"http://www.w3.org/2000/svg\" height=\"24px\" viewBox=\"0 -960 960 960\">\n",
              "    <path d=\"M120-120v-720h720v720H120Zm60-500h600v-160H180v160Zm220 220h160v-160H400v160Zm0 220h160v-160H400v160ZM180-400h160v-160H180v160Zm440 0h160v-160H620v160ZM180-180h160v-160H180v160Zm440 0h160v-160H620v160Z\"/>\n",
              "  </svg>\n",
              "    </button>\n",
              "\n",
              "  <style>\n",
              "    .colab-df-container {\n",
              "      display:flex;\n",
              "      gap: 12px;\n",
              "    }\n",
              "\n",
              "    .colab-df-convert {\n",
              "      background-color: #E8F0FE;\n",
              "      border: none;\n",
              "      border-radius: 50%;\n",
              "      cursor: pointer;\n",
              "      display: none;\n",
              "      fill: #1967D2;\n",
              "      height: 32px;\n",
              "      padding: 0 0 0 0;\n",
              "      width: 32px;\n",
              "    }\n",
              "\n",
              "    .colab-df-convert:hover {\n",
              "      background-color: #E2EBFA;\n",
              "      box-shadow: 0px 1px 2px rgba(60, 64, 67, 0.3), 0px 1px 3px 1px rgba(60, 64, 67, 0.15);\n",
              "      fill: #174EA6;\n",
              "    }\n",
              "\n",
              "    .colab-df-buttons div {\n",
              "      margin-bottom: 4px;\n",
              "    }\n",
              "\n",
              "    [theme=dark] .colab-df-convert {\n",
              "      background-color: #3B4455;\n",
              "      fill: #D2E3FC;\n",
              "    }\n",
              "\n",
              "    [theme=dark] .colab-df-convert:hover {\n",
              "      background-color: #434B5C;\n",
              "      box-shadow: 0px 1px 3px 1px rgba(0, 0, 0, 0.15);\n",
              "      filter: drop-shadow(0px 1px 2px rgba(0, 0, 0, 0.3));\n",
              "      fill: #FFFFFF;\n",
              "    }\n",
              "  </style>\n",
              "\n",
              "    <script>\n",
              "      const buttonEl =\n",
              "        document.querySelector('#df-31f09315-3416-41ce-b1a7-92366c83c26e button.colab-df-convert');\n",
              "      buttonEl.style.display =\n",
              "        google.colab.kernel.accessAllowed ? 'block' : 'none';\n",
              "\n",
              "      async function convertToInteractive(key) {\n",
              "        const element = document.querySelector('#df-31f09315-3416-41ce-b1a7-92366c83c26e');\n",
              "        const dataTable =\n",
              "          await google.colab.kernel.invokeFunction('convertToInteractive',\n",
              "                                                    [key], {});\n",
              "        if (!dataTable) return;\n",
              "\n",
              "        const docLinkHtml = 'Like what you see? Visit the ' +\n",
              "          '<a target=\"_blank\" href=https://colab.research.google.com/notebooks/data_table.ipynb>data table notebook</a>'\n",
              "          + ' to learn more about interactive tables.';\n",
              "        element.innerHTML = '';\n",
              "        dataTable['output_type'] = 'display_data';\n",
              "        await google.colab.output.renderOutput(dataTable, element);\n",
              "        const docLink = document.createElement('div');\n",
              "        docLink.innerHTML = docLinkHtml;\n",
              "        element.appendChild(docLink);\n",
              "      }\n",
              "    </script>\n",
              "  </div>\n",
              "\n",
              "\n",
              "    <div id=\"df-f8d384bb-d856-48bc-b720-f606cd53f26a\">\n",
              "      <button class=\"colab-df-quickchart\" onclick=\"quickchart('df-f8d384bb-d856-48bc-b720-f606cd53f26a')\"\n",
              "                title=\"Suggest charts\"\n",
              "                style=\"display:none;\">\n",
              "\n",
              "<svg xmlns=\"http://www.w3.org/2000/svg\" height=\"24px\"viewBox=\"0 0 24 24\"\n",
              "     width=\"24px\">\n",
              "    <g>\n",
              "        <path d=\"M19 3H5c-1.1 0-2 .9-2 2v14c0 1.1.9 2 2 2h14c1.1 0 2-.9 2-2V5c0-1.1-.9-2-2-2zM9 17H7v-7h2v7zm4 0h-2V7h2v10zm4 0h-2v-4h2v4z\"/>\n",
              "    </g>\n",
              "</svg>\n",
              "      </button>\n",
              "\n",
              "<style>\n",
              "  .colab-df-quickchart {\n",
              "      --bg-color: #E8F0FE;\n",
              "      --fill-color: #1967D2;\n",
              "      --hover-bg-color: #E2EBFA;\n",
              "      --hover-fill-color: #174EA6;\n",
              "      --disabled-fill-color: #AAA;\n",
              "      --disabled-bg-color: #DDD;\n",
              "  }\n",
              "\n",
              "  [theme=dark] .colab-df-quickchart {\n",
              "      --bg-color: #3B4455;\n",
              "      --fill-color: #D2E3FC;\n",
              "      --hover-bg-color: #434B5C;\n",
              "      --hover-fill-color: #FFFFFF;\n",
              "      --disabled-bg-color: #3B4455;\n",
              "      --disabled-fill-color: #666;\n",
              "  }\n",
              "\n",
              "  .colab-df-quickchart {\n",
              "    background-color: var(--bg-color);\n",
              "    border: none;\n",
              "    border-radius: 50%;\n",
              "    cursor: pointer;\n",
              "    display: none;\n",
              "    fill: var(--fill-color);\n",
              "    height: 32px;\n",
              "    padding: 0;\n",
              "    width: 32px;\n",
              "  }\n",
              "\n",
              "  .colab-df-quickchart:hover {\n",
              "    background-color: var(--hover-bg-color);\n",
              "    box-shadow: 0 1px 2px rgba(60, 64, 67, 0.3), 0 1px 3px 1px rgba(60, 64, 67, 0.15);\n",
              "    fill: var(--button-hover-fill-color);\n",
              "  }\n",
              "\n",
              "  .colab-df-quickchart-complete:disabled,\n",
              "  .colab-df-quickchart-complete:disabled:hover {\n",
              "    background-color: var(--disabled-bg-color);\n",
              "    fill: var(--disabled-fill-color);\n",
              "    box-shadow: none;\n",
              "  }\n",
              "\n",
              "  .colab-df-spinner {\n",
              "    border: 2px solid var(--fill-color);\n",
              "    border-color: transparent;\n",
              "    border-bottom-color: var(--fill-color);\n",
              "    animation:\n",
              "      spin 1s steps(1) infinite;\n",
              "  }\n",
              "\n",
              "  @keyframes spin {\n",
              "    0% {\n",
              "      border-color: transparent;\n",
              "      border-bottom-color: var(--fill-color);\n",
              "      border-left-color: var(--fill-color);\n",
              "    }\n",
              "    20% {\n",
              "      border-color: transparent;\n",
              "      border-left-color: var(--fill-color);\n",
              "      border-top-color: var(--fill-color);\n",
              "    }\n",
              "    30% {\n",
              "      border-color: transparent;\n",
              "      border-left-color: var(--fill-color);\n",
              "      border-top-color: var(--fill-color);\n",
              "      border-right-color: var(--fill-color);\n",
              "    }\n",
              "    40% {\n",
              "      border-color: transparent;\n",
              "      border-right-color: var(--fill-color);\n",
              "      border-top-color: var(--fill-color);\n",
              "    }\n",
              "    60% {\n",
              "      border-color: transparent;\n",
              "      border-right-color: var(--fill-color);\n",
              "    }\n",
              "    80% {\n",
              "      border-color: transparent;\n",
              "      border-right-color: var(--fill-color);\n",
              "      border-bottom-color: var(--fill-color);\n",
              "    }\n",
              "    90% {\n",
              "      border-color: transparent;\n",
              "      border-bottom-color: var(--fill-color);\n",
              "    }\n",
              "  }\n",
              "</style>\n",
              "\n",
              "      <script>\n",
              "        async function quickchart(key) {\n",
              "          const quickchartButtonEl =\n",
              "            document.querySelector('#' + key + ' button');\n",
              "          quickchartButtonEl.disabled = true;  // To prevent multiple clicks.\n",
              "          quickchartButtonEl.classList.add('colab-df-spinner');\n",
              "          try {\n",
              "            const charts = await google.colab.kernel.invokeFunction(\n",
              "                'suggestCharts', [key], {});\n",
              "          } catch (error) {\n",
              "            console.error('Error during call to suggestCharts:', error);\n",
              "          }\n",
              "          quickchartButtonEl.classList.remove('colab-df-spinner');\n",
              "          quickchartButtonEl.classList.add('colab-df-quickchart-complete');\n",
              "        }\n",
              "        (() => {\n",
              "          let quickchartButtonEl =\n",
              "            document.querySelector('#df-f8d384bb-d856-48bc-b720-f606cd53f26a button');\n",
              "          quickchartButtonEl.style.display =\n",
              "            google.colab.kernel.accessAllowed ? 'block' : 'none';\n",
              "        })();\n",
              "      </script>\n",
              "    </div>\n",
              "\n",
              "    </div>\n",
              "  </div>\n"
            ],
            "application/vnd.google.colaboratory.intrinsic+json": {
              "type": "dataframe",
              "variable_name": "bmw_df",
              "summary": "{\n  \"name\": \"bmw_df\",\n  \"rows\": 50000,\n  \"fields\": [\n    {\n      \"column\": \"Model\",\n      \"properties\": {\n        \"dtype\": \"category\",\n        \"num_unique_values\": 11,\n        \"samples\": [\n          \"3 Series\",\n          \"5 Series\",\n          \"i3\"\n        ],\n        \"semantic_type\": \"\",\n        \"description\": \"\"\n      }\n    },\n    {\n      \"column\": \"Year\",\n      \"properties\": {\n        \"dtype\": \"number\",\n        \"std\": 4,\n        \"min\": 2010,\n        \"max\": 2024,\n        \"num_unique_values\": 15,\n        \"samples\": [\n          2015,\n          2021,\n          2016\n        ],\n        \"semantic_type\": \"\",\n        \"description\": \"\"\n      }\n    },\n    {\n      \"column\": \"Region\",\n      \"properties\": {\n        \"dtype\": \"category\",\n        \"num_unique_values\": 6,\n        \"samples\": [\n          \"Asia\",\n          \"North America\",\n          \"Africa\"\n        ],\n        \"semantic_type\": \"\",\n        \"description\": \"\"\n      }\n    },\n    {\n      \"column\": \"Color\",\n      \"properties\": {\n        \"dtype\": \"category\",\n        \"num_unique_values\": 6,\n        \"samples\": [\n          \"Red\",\n          \"Blue\",\n          \"Grey\"\n        ],\n        \"semantic_type\": \"\",\n        \"description\": \"\"\n      }\n    },\n    {\n      \"column\": \"Fuel_Type\",\n      \"properties\": {\n        \"dtype\": \"category\",\n        \"num_unique_values\": 4,\n        \"samples\": [\n          \"Hybrid\",\n          \"Electric\",\n          \"Petrol\"\n        ],\n        \"semantic_type\": \"\",\n        \"description\": \"\"\n      }\n    },\n    {\n      \"column\": \"Transmission\",\n      \"properties\": {\n        \"dtype\": \"category\",\n        \"num_unique_values\": 2,\n        \"samples\": [\n          \"Automatic\",\n          \"Manual\"\n        ],\n        \"semantic_type\": \"\",\n        \"description\": \"\"\n      }\n    },\n    {\n      \"column\": \"Engine_Size_L\",\n      \"properties\": {\n        \"dtype\": \"number\",\n        \"std\": 1.0090783975412023,\n        \"min\": 1.5,\n        \"max\": 5.0,\n        \"num_unique_values\": 36,\n        \"samples\": [\n          2.9,\n          3.7\n        ],\n        \"semantic_type\": \"\",\n        \"description\": \"\"\n      }\n    },\n    {\n      \"column\": \"Mileage_KM\",\n      \"properties\": {\n        \"dtype\": \"number\",\n        \"std\": 57941,\n        \"min\": 3,\n        \"max\": 199996,\n        \"num_unique_values\": 44347,\n        \"samples\": [\n          186589,\n          76400\n        ],\n        \"semantic_type\": \"\",\n        \"description\": \"\"\n      }\n    },\n    {\n      \"column\": \"Price_USD\",\n      \"properties\": {\n        \"dtype\": \"number\",\n        \"std\": 25998,\n        \"min\": 30000,\n        \"max\": 119998,\n        \"num_unique_values\": 38246,\n        \"samples\": [\n          45242,\n          33160\n        ],\n        \"semantic_type\": \"\",\n        \"description\": \"\"\n      }\n    },\n    {\n      \"column\": \"Sales_Volume\",\n      \"properties\": {\n        \"dtype\": \"number\",\n        \"std\": 2856,\n        \"min\": 100,\n        \"max\": 9999,\n        \"num_unique_values\": 9845,\n        \"samples\": [\n          4422,\n          7272\n        ],\n        \"semantic_type\": \"\",\n        \"description\": \"\"\n      }\n    },\n    {\n      \"column\": \"Sales_Classification\",\n      \"properties\": {\n        \"dtype\": \"category\",\n        \"num_unique_values\": 2,\n        \"samples\": [\n          \"Low\",\n          \"High\"\n        ],\n        \"semantic_type\": \"\",\n        \"description\": \"\"\n      }\n    }\n  ]\n}"
            }
          },
          "metadata": {},
          "execution_count": 5
        }
      ]
    },
    {
      "cell_type": "code",
      "source": [
        "bmw_df.columns = bmw_df.columns.str.lower()\n",
        "bmw_df.head()"
      ],
      "metadata": {
        "id": "x4T4bZR4o4w6",
        "colab": {
          "base_uri": "https://localhost:8080/",
          "height": 206
        },
        "outputId": "ca0d8c59-8d22-49cc-a9f6-f95cfbc54a02"
      },
      "execution_count": 6,
      "outputs": [
        {
          "output_type": "execute_result",
          "data": {
            "text/plain": [
              "      model  year         region  color fuel_type transmission  engine_size_l  \\\n",
              "0  5 Series  2016           Asia    Red    Petrol       Manual            3.5   \n",
              "1        i8  2013  North America    Red    Hybrid    Automatic            1.6   \n",
              "2  5 Series  2022  North America   Blue    Petrol    Automatic            4.5   \n",
              "3        X3  2024    Middle East   Blue    Petrol    Automatic            1.7   \n",
              "4  7 Series  2020  South America  Black    Diesel       Manual            2.1   \n",
              "\n",
              "   mileage_km  price_usd  sales_volume sales_classification  \n",
              "0      151748      98740          8300                 High  \n",
              "1      121671      79219          3428                  Low  \n",
              "2       10991     113265          6994                  Low  \n",
              "3       27255      60971          4047                  Low  \n",
              "4      122131      49898          3080                  Low  "
            ],
            "text/html": [
              "\n",
              "  <div id=\"df-028f4c0a-a276-4a8a-a216-8f5e6208b439\" class=\"colab-df-container\">\n",
              "    <div>\n",
              "<style scoped>\n",
              "    .dataframe tbody tr th:only-of-type {\n",
              "        vertical-align: middle;\n",
              "    }\n",
              "\n",
              "    .dataframe tbody tr th {\n",
              "        vertical-align: top;\n",
              "    }\n",
              "\n",
              "    .dataframe thead th {\n",
              "        text-align: right;\n",
              "    }\n",
              "</style>\n",
              "<table border=\"1\" class=\"dataframe\">\n",
              "  <thead>\n",
              "    <tr style=\"text-align: right;\">\n",
              "      <th></th>\n",
              "      <th>model</th>\n",
              "      <th>year</th>\n",
              "      <th>region</th>\n",
              "      <th>color</th>\n",
              "      <th>fuel_type</th>\n",
              "      <th>transmission</th>\n",
              "      <th>engine_size_l</th>\n",
              "      <th>mileage_km</th>\n",
              "      <th>price_usd</th>\n",
              "      <th>sales_volume</th>\n",
              "      <th>sales_classification</th>\n",
              "    </tr>\n",
              "  </thead>\n",
              "  <tbody>\n",
              "    <tr>\n",
              "      <th>0</th>\n",
              "      <td>5 Series</td>\n",
              "      <td>2016</td>\n",
              "      <td>Asia</td>\n",
              "      <td>Red</td>\n",
              "      <td>Petrol</td>\n",
              "      <td>Manual</td>\n",
              "      <td>3.5</td>\n",
              "      <td>151748</td>\n",
              "      <td>98740</td>\n",
              "      <td>8300</td>\n",
              "      <td>High</td>\n",
              "    </tr>\n",
              "    <tr>\n",
              "      <th>1</th>\n",
              "      <td>i8</td>\n",
              "      <td>2013</td>\n",
              "      <td>North America</td>\n",
              "      <td>Red</td>\n",
              "      <td>Hybrid</td>\n",
              "      <td>Automatic</td>\n",
              "      <td>1.6</td>\n",
              "      <td>121671</td>\n",
              "      <td>79219</td>\n",
              "      <td>3428</td>\n",
              "      <td>Low</td>\n",
              "    </tr>\n",
              "    <tr>\n",
              "      <th>2</th>\n",
              "      <td>5 Series</td>\n",
              "      <td>2022</td>\n",
              "      <td>North America</td>\n",
              "      <td>Blue</td>\n",
              "      <td>Petrol</td>\n",
              "      <td>Automatic</td>\n",
              "      <td>4.5</td>\n",
              "      <td>10991</td>\n",
              "      <td>113265</td>\n",
              "      <td>6994</td>\n",
              "      <td>Low</td>\n",
              "    </tr>\n",
              "    <tr>\n",
              "      <th>3</th>\n",
              "      <td>X3</td>\n",
              "      <td>2024</td>\n",
              "      <td>Middle East</td>\n",
              "      <td>Blue</td>\n",
              "      <td>Petrol</td>\n",
              "      <td>Automatic</td>\n",
              "      <td>1.7</td>\n",
              "      <td>27255</td>\n",
              "      <td>60971</td>\n",
              "      <td>4047</td>\n",
              "      <td>Low</td>\n",
              "    </tr>\n",
              "    <tr>\n",
              "      <th>4</th>\n",
              "      <td>7 Series</td>\n",
              "      <td>2020</td>\n",
              "      <td>South America</td>\n",
              "      <td>Black</td>\n",
              "      <td>Diesel</td>\n",
              "      <td>Manual</td>\n",
              "      <td>2.1</td>\n",
              "      <td>122131</td>\n",
              "      <td>49898</td>\n",
              "      <td>3080</td>\n",
              "      <td>Low</td>\n",
              "    </tr>\n",
              "  </tbody>\n",
              "</table>\n",
              "</div>\n",
              "    <div class=\"colab-df-buttons\">\n",
              "\n",
              "  <div class=\"colab-df-container\">\n",
              "    <button class=\"colab-df-convert\" onclick=\"convertToInteractive('df-028f4c0a-a276-4a8a-a216-8f5e6208b439')\"\n",
              "            title=\"Convert this dataframe to an interactive table.\"\n",
              "            style=\"display:none;\">\n",
              "\n",
              "  <svg xmlns=\"http://www.w3.org/2000/svg\" height=\"24px\" viewBox=\"0 -960 960 960\">\n",
              "    <path d=\"M120-120v-720h720v720H120Zm60-500h600v-160H180v160Zm220 220h160v-160H400v160Zm0 220h160v-160H400v160ZM180-400h160v-160H180v160Zm440 0h160v-160H620v160ZM180-180h160v-160H180v160Zm440 0h160v-160H620v160Z\"/>\n",
              "  </svg>\n",
              "    </button>\n",
              "\n",
              "  <style>\n",
              "    .colab-df-container {\n",
              "      display:flex;\n",
              "      gap: 12px;\n",
              "    }\n",
              "\n",
              "    .colab-df-convert {\n",
              "      background-color: #E8F0FE;\n",
              "      border: none;\n",
              "      border-radius: 50%;\n",
              "      cursor: pointer;\n",
              "      display: none;\n",
              "      fill: #1967D2;\n",
              "      height: 32px;\n",
              "      padding: 0 0 0 0;\n",
              "      width: 32px;\n",
              "    }\n",
              "\n",
              "    .colab-df-convert:hover {\n",
              "      background-color: #E2EBFA;\n",
              "      box-shadow: 0px 1px 2px rgba(60, 64, 67, 0.3), 0px 1px 3px 1px rgba(60, 64, 67, 0.15);\n",
              "      fill: #174EA6;\n",
              "    }\n",
              "\n",
              "    .colab-df-buttons div {\n",
              "      margin-bottom: 4px;\n",
              "    }\n",
              "\n",
              "    [theme=dark] .colab-df-convert {\n",
              "      background-color: #3B4455;\n",
              "      fill: #D2E3FC;\n",
              "    }\n",
              "\n",
              "    [theme=dark] .colab-df-convert:hover {\n",
              "      background-color: #434B5C;\n",
              "      box-shadow: 0px 1px 3px 1px rgba(0, 0, 0, 0.15);\n",
              "      filter: drop-shadow(0px 1px 2px rgba(0, 0, 0, 0.3));\n",
              "      fill: #FFFFFF;\n",
              "    }\n",
              "  </style>\n",
              "\n",
              "    <script>\n",
              "      const buttonEl =\n",
              "        document.querySelector('#df-028f4c0a-a276-4a8a-a216-8f5e6208b439 button.colab-df-convert');\n",
              "      buttonEl.style.display =\n",
              "        google.colab.kernel.accessAllowed ? 'block' : 'none';\n",
              "\n",
              "      async function convertToInteractive(key) {\n",
              "        const element = document.querySelector('#df-028f4c0a-a276-4a8a-a216-8f5e6208b439');\n",
              "        const dataTable =\n",
              "          await google.colab.kernel.invokeFunction('convertToInteractive',\n",
              "                                                    [key], {});\n",
              "        if (!dataTable) return;\n",
              "\n",
              "        const docLinkHtml = 'Like what you see? Visit the ' +\n",
              "          '<a target=\"_blank\" href=https://colab.research.google.com/notebooks/data_table.ipynb>data table notebook</a>'\n",
              "          + ' to learn more about interactive tables.';\n",
              "        element.innerHTML = '';\n",
              "        dataTable['output_type'] = 'display_data';\n",
              "        await google.colab.output.renderOutput(dataTable, element);\n",
              "        const docLink = document.createElement('div');\n",
              "        docLink.innerHTML = docLinkHtml;\n",
              "        element.appendChild(docLink);\n",
              "      }\n",
              "    </script>\n",
              "  </div>\n",
              "\n",
              "\n",
              "    <div id=\"df-0021141f-c7c8-4e6f-8ef3-d92fcaf72e0e\">\n",
              "      <button class=\"colab-df-quickchart\" onclick=\"quickchart('df-0021141f-c7c8-4e6f-8ef3-d92fcaf72e0e')\"\n",
              "                title=\"Suggest charts\"\n",
              "                style=\"display:none;\">\n",
              "\n",
              "<svg xmlns=\"http://www.w3.org/2000/svg\" height=\"24px\"viewBox=\"0 0 24 24\"\n",
              "     width=\"24px\">\n",
              "    <g>\n",
              "        <path d=\"M19 3H5c-1.1 0-2 .9-2 2v14c0 1.1.9 2 2 2h14c1.1 0 2-.9 2-2V5c0-1.1-.9-2-2-2zM9 17H7v-7h2v7zm4 0h-2V7h2v10zm4 0h-2v-4h2v4z\"/>\n",
              "    </g>\n",
              "</svg>\n",
              "      </button>\n",
              "\n",
              "<style>\n",
              "  .colab-df-quickchart {\n",
              "      --bg-color: #E8F0FE;\n",
              "      --fill-color: #1967D2;\n",
              "      --hover-bg-color: #E2EBFA;\n",
              "      --hover-fill-color: #174EA6;\n",
              "      --disabled-fill-color: #AAA;\n",
              "      --disabled-bg-color: #DDD;\n",
              "  }\n",
              "\n",
              "  [theme=dark] .colab-df-quickchart {\n",
              "      --bg-color: #3B4455;\n",
              "      --fill-color: #D2E3FC;\n",
              "      --hover-bg-color: #434B5C;\n",
              "      --hover-fill-color: #FFFFFF;\n",
              "      --disabled-bg-color: #3B4455;\n",
              "      --disabled-fill-color: #666;\n",
              "  }\n",
              "\n",
              "  .colab-df-quickchart {\n",
              "    background-color: var(--bg-color);\n",
              "    border: none;\n",
              "    border-radius: 50%;\n",
              "    cursor: pointer;\n",
              "    display: none;\n",
              "    fill: var(--fill-color);\n",
              "    height: 32px;\n",
              "    padding: 0;\n",
              "    width: 32px;\n",
              "  }\n",
              "\n",
              "  .colab-df-quickchart:hover {\n",
              "    background-color: var(--hover-bg-color);\n",
              "    box-shadow: 0 1px 2px rgba(60, 64, 67, 0.3), 0 1px 3px 1px rgba(60, 64, 67, 0.15);\n",
              "    fill: var(--button-hover-fill-color);\n",
              "  }\n",
              "\n",
              "  .colab-df-quickchart-complete:disabled,\n",
              "  .colab-df-quickchart-complete:disabled:hover {\n",
              "    background-color: var(--disabled-bg-color);\n",
              "    fill: var(--disabled-fill-color);\n",
              "    box-shadow: none;\n",
              "  }\n",
              "\n",
              "  .colab-df-spinner {\n",
              "    border: 2px solid var(--fill-color);\n",
              "    border-color: transparent;\n",
              "    border-bottom-color: var(--fill-color);\n",
              "    animation:\n",
              "      spin 1s steps(1) infinite;\n",
              "  }\n",
              "\n",
              "  @keyframes spin {\n",
              "    0% {\n",
              "      border-color: transparent;\n",
              "      border-bottom-color: var(--fill-color);\n",
              "      border-left-color: var(--fill-color);\n",
              "    }\n",
              "    20% {\n",
              "      border-color: transparent;\n",
              "      border-left-color: var(--fill-color);\n",
              "      border-top-color: var(--fill-color);\n",
              "    }\n",
              "    30% {\n",
              "      border-color: transparent;\n",
              "      border-left-color: var(--fill-color);\n",
              "      border-top-color: var(--fill-color);\n",
              "      border-right-color: var(--fill-color);\n",
              "    }\n",
              "    40% {\n",
              "      border-color: transparent;\n",
              "      border-right-color: var(--fill-color);\n",
              "      border-top-color: var(--fill-color);\n",
              "    }\n",
              "    60% {\n",
              "      border-color: transparent;\n",
              "      border-right-color: var(--fill-color);\n",
              "    }\n",
              "    80% {\n",
              "      border-color: transparent;\n",
              "      border-right-color: var(--fill-color);\n",
              "      border-bottom-color: var(--fill-color);\n",
              "    }\n",
              "    90% {\n",
              "      border-color: transparent;\n",
              "      border-bottom-color: var(--fill-color);\n",
              "    }\n",
              "  }\n",
              "</style>\n",
              "\n",
              "      <script>\n",
              "        async function quickchart(key) {\n",
              "          const quickchartButtonEl =\n",
              "            document.querySelector('#' + key + ' button');\n",
              "          quickchartButtonEl.disabled = true;  // To prevent multiple clicks.\n",
              "          quickchartButtonEl.classList.add('colab-df-spinner');\n",
              "          try {\n",
              "            const charts = await google.colab.kernel.invokeFunction(\n",
              "                'suggestCharts', [key], {});\n",
              "          } catch (error) {\n",
              "            console.error('Error during call to suggestCharts:', error);\n",
              "          }\n",
              "          quickchartButtonEl.classList.remove('colab-df-spinner');\n",
              "          quickchartButtonEl.classList.add('colab-df-quickchart-complete');\n",
              "        }\n",
              "        (() => {\n",
              "          let quickchartButtonEl =\n",
              "            document.querySelector('#df-0021141f-c7c8-4e6f-8ef3-d92fcaf72e0e button');\n",
              "          quickchartButtonEl.style.display =\n",
              "            google.colab.kernel.accessAllowed ? 'block' : 'none';\n",
              "        })();\n",
              "      </script>\n",
              "    </div>\n",
              "\n",
              "    </div>\n",
              "  </div>\n"
            ],
            "application/vnd.google.colaboratory.intrinsic+json": {
              "type": "dataframe",
              "variable_name": "bmw_df",
              "summary": "{\n  \"name\": \"bmw_df\",\n  \"rows\": 50000,\n  \"fields\": [\n    {\n      \"column\": \"model\",\n      \"properties\": {\n        \"dtype\": \"category\",\n        \"num_unique_values\": 11,\n        \"samples\": [\n          \"3 Series\",\n          \"5 Series\",\n          \"i3\"\n        ],\n        \"semantic_type\": \"\",\n        \"description\": \"\"\n      }\n    },\n    {\n      \"column\": \"year\",\n      \"properties\": {\n        \"dtype\": \"number\",\n        \"std\": 4,\n        \"min\": 2010,\n        \"max\": 2024,\n        \"num_unique_values\": 15,\n        \"samples\": [\n          2015,\n          2021,\n          2016\n        ],\n        \"semantic_type\": \"\",\n        \"description\": \"\"\n      }\n    },\n    {\n      \"column\": \"region\",\n      \"properties\": {\n        \"dtype\": \"category\",\n        \"num_unique_values\": 6,\n        \"samples\": [\n          \"Asia\",\n          \"North America\",\n          \"Africa\"\n        ],\n        \"semantic_type\": \"\",\n        \"description\": \"\"\n      }\n    },\n    {\n      \"column\": \"color\",\n      \"properties\": {\n        \"dtype\": \"category\",\n        \"num_unique_values\": 6,\n        \"samples\": [\n          \"Red\",\n          \"Blue\",\n          \"Grey\"\n        ],\n        \"semantic_type\": \"\",\n        \"description\": \"\"\n      }\n    },\n    {\n      \"column\": \"fuel_type\",\n      \"properties\": {\n        \"dtype\": \"category\",\n        \"num_unique_values\": 4,\n        \"samples\": [\n          \"Hybrid\",\n          \"Electric\",\n          \"Petrol\"\n        ],\n        \"semantic_type\": \"\",\n        \"description\": \"\"\n      }\n    },\n    {\n      \"column\": \"transmission\",\n      \"properties\": {\n        \"dtype\": \"category\",\n        \"num_unique_values\": 2,\n        \"samples\": [\n          \"Automatic\",\n          \"Manual\"\n        ],\n        \"semantic_type\": \"\",\n        \"description\": \"\"\n      }\n    },\n    {\n      \"column\": \"engine_size_l\",\n      \"properties\": {\n        \"dtype\": \"number\",\n        \"std\": 1.0090783975412023,\n        \"min\": 1.5,\n        \"max\": 5.0,\n        \"num_unique_values\": 36,\n        \"samples\": [\n          2.9,\n          3.7\n        ],\n        \"semantic_type\": \"\",\n        \"description\": \"\"\n      }\n    },\n    {\n      \"column\": \"mileage_km\",\n      \"properties\": {\n        \"dtype\": \"number\",\n        \"std\": 57941,\n        \"min\": 3,\n        \"max\": 199996,\n        \"num_unique_values\": 44347,\n        \"samples\": [\n          186589,\n          76400\n        ],\n        \"semantic_type\": \"\",\n        \"description\": \"\"\n      }\n    },\n    {\n      \"column\": \"price_usd\",\n      \"properties\": {\n        \"dtype\": \"number\",\n        \"std\": 25998,\n        \"min\": 30000,\n        \"max\": 119998,\n        \"num_unique_values\": 38246,\n        \"samples\": [\n          45242,\n          33160\n        ],\n        \"semantic_type\": \"\",\n        \"description\": \"\"\n      }\n    },\n    {\n      \"column\": \"sales_volume\",\n      \"properties\": {\n        \"dtype\": \"number\",\n        \"std\": 2856,\n        \"min\": 100,\n        \"max\": 9999,\n        \"num_unique_values\": 9845,\n        \"samples\": [\n          4422,\n          7272\n        ],\n        \"semantic_type\": \"\",\n        \"description\": \"\"\n      }\n    },\n    {\n      \"column\": \"sales_classification\",\n      \"properties\": {\n        \"dtype\": \"category\",\n        \"num_unique_values\": 2,\n        \"samples\": [\n          \"Low\",\n          \"High\"\n        ],\n        \"semantic_type\": \"\",\n        \"description\": \"\"\n      }\n    }\n  ]\n}"
            }
          },
          "metadata": {},
          "execution_count": 6
        }
      ]
    },
    {
      "cell_type": "code",
      "source": [
        "bmw_df.info()"
      ],
      "metadata": {
        "id": "a6w0RifyhSTe",
        "colab": {
          "base_uri": "https://localhost:8080/"
        },
        "outputId": "5adf370c-6526-4f2c-b3c9-6e808f5eb264"
      },
      "execution_count": 7,
      "outputs": [
        {
          "output_type": "stream",
          "name": "stdout",
          "text": [
            "<class 'pandas.core.frame.DataFrame'>\n",
            "RangeIndex: 50000 entries, 0 to 49999\n",
            "Data columns (total 11 columns):\n",
            " #   Column                Non-Null Count  Dtype  \n",
            "---  ------                --------------  -----  \n",
            " 0   model                 50000 non-null  object \n",
            " 1   year                  50000 non-null  int64  \n",
            " 2   region                50000 non-null  object \n",
            " 3   color                 50000 non-null  object \n",
            " 4   fuel_type             50000 non-null  object \n",
            " 5   transmission          50000 non-null  object \n",
            " 6   engine_size_l         50000 non-null  float64\n",
            " 7   mileage_km            50000 non-null  int64  \n",
            " 8   price_usd             50000 non-null  int64  \n",
            " 9   sales_volume          50000 non-null  int64  \n",
            " 10  sales_classification  50000 non-null  object \n",
            "dtypes: float64(1), int64(4), object(6)\n",
            "memory usage: 4.2+ MB\n"
          ]
        }
      ]
    },
    {
      "cell_type": "code",
      "source": [
        "bmw_df['sales_classification'].value_counts()"
      ],
      "metadata": {
        "id": "r77w1D9KhT6j",
        "colab": {
          "base_uri": "https://localhost:8080/",
          "height": 178
        },
        "outputId": "d1458906-872b-4284-a805-b4444651a779"
      },
      "execution_count": 8,
      "outputs": [
        {
          "output_type": "execute_result",
          "data": {
            "text/plain": [
              "sales_classification\n",
              "Low     34754\n",
              "High    15246\n",
              "Name: count, dtype: int64"
            ],
            "text/html": [
              "<div>\n",
              "<style scoped>\n",
              "    .dataframe tbody tr th:only-of-type {\n",
              "        vertical-align: middle;\n",
              "    }\n",
              "\n",
              "    .dataframe tbody tr th {\n",
              "        vertical-align: top;\n",
              "    }\n",
              "\n",
              "    .dataframe thead th {\n",
              "        text-align: right;\n",
              "    }\n",
              "</style>\n",
              "<table border=\"1\" class=\"dataframe\">\n",
              "  <thead>\n",
              "    <tr style=\"text-align: right;\">\n",
              "      <th></th>\n",
              "      <th>count</th>\n",
              "    </tr>\n",
              "    <tr>\n",
              "      <th>sales_classification</th>\n",
              "      <th></th>\n",
              "    </tr>\n",
              "  </thead>\n",
              "  <tbody>\n",
              "    <tr>\n",
              "      <th>Low</th>\n",
              "      <td>34754</td>\n",
              "    </tr>\n",
              "    <tr>\n",
              "      <th>High</th>\n",
              "      <td>15246</td>\n",
              "    </tr>\n",
              "  </tbody>\n",
              "</table>\n",
              "</div><br><label><b>dtype:</b> int64</label>"
            ]
          },
          "metadata": {},
          "execution_count": 8
        }
      ]
    },
    {
      "cell_type": "code",
      "source": [
        "# There is class imbalance for the target column (sales_classification):\n",
        "# Low: 34,754 (69%)\n",
        "# High: 15,246 (31%)\n",
        "# Which would create misleading accuracy and model bias\n",
        "# Fixes:\n",
        "# Class weights (e.g., class_weight=\"balanced\" in Logistic Regression or Random Forest).\n",
        "# Oversampling “High” (SMOTE, Random Oversampling).\n",
        "# Undersampling “Low.”\n",
        "# Threshold tuning (adjust probability cutoff)."
      ],
      "metadata": {
        "id": "7EDUDDdTow6Q"
      },
      "execution_count": 9,
      "outputs": []
    },
    {
      "cell_type": "code",
      "source": [
        "bmw_df.describe()"
      ],
      "metadata": {
        "id": "NqjoglN8m2yV",
        "colab": {
          "base_uri": "https://localhost:8080/",
          "height": 300
        },
        "outputId": "892d8374-98ca-420d-fdf2-cd97f1b13d9d"
      },
      "execution_count": 10,
      "outputs": [
        {
          "output_type": "execute_result",
          "data": {
            "text/plain": [
              "               year  engine_size_l     mileage_km      price_usd  sales_volume\n",
              "count  50000.000000   50000.000000   50000.000000   50000.000000  50000.000000\n",
              "mean    2017.015700       3.247180  100307.203140   75034.600900   5067.514680\n",
              "std        4.324459       1.009078   57941.509344   25998.248882   2856.767125\n",
              "min     2010.000000       1.500000       3.000000   30000.000000    100.000000\n",
              "25%     2013.000000       2.400000   50178.000000   52434.750000   2588.000000\n",
              "50%     2017.000000       3.200000  100388.500000   75011.500000   5087.000000\n",
              "75%     2021.000000       4.100000  150630.250000   97628.250000   7537.250000\n",
              "max     2024.000000       5.000000  199996.000000  119998.000000   9999.000000"
            ],
            "text/html": [
              "\n",
              "  <div id=\"df-89e997aa-9431-43e4-b25c-dbbca540ebf4\" class=\"colab-df-container\">\n",
              "    <div>\n",
              "<style scoped>\n",
              "    .dataframe tbody tr th:only-of-type {\n",
              "        vertical-align: middle;\n",
              "    }\n",
              "\n",
              "    .dataframe tbody tr th {\n",
              "        vertical-align: top;\n",
              "    }\n",
              "\n",
              "    .dataframe thead th {\n",
              "        text-align: right;\n",
              "    }\n",
              "</style>\n",
              "<table border=\"1\" class=\"dataframe\">\n",
              "  <thead>\n",
              "    <tr style=\"text-align: right;\">\n",
              "      <th></th>\n",
              "      <th>year</th>\n",
              "      <th>engine_size_l</th>\n",
              "      <th>mileage_km</th>\n",
              "      <th>price_usd</th>\n",
              "      <th>sales_volume</th>\n",
              "    </tr>\n",
              "  </thead>\n",
              "  <tbody>\n",
              "    <tr>\n",
              "      <th>count</th>\n",
              "      <td>50000.000000</td>\n",
              "      <td>50000.000000</td>\n",
              "      <td>50000.000000</td>\n",
              "      <td>50000.000000</td>\n",
              "      <td>50000.000000</td>\n",
              "    </tr>\n",
              "    <tr>\n",
              "      <th>mean</th>\n",
              "      <td>2017.015700</td>\n",
              "      <td>3.247180</td>\n",
              "      <td>100307.203140</td>\n",
              "      <td>75034.600900</td>\n",
              "      <td>5067.514680</td>\n",
              "    </tr>\n",
              "    <tr>\n",
              "      <th>std</th>\n",
              "      <td>4.324459</td>\n",
              "      <td>1.009078</td>\n",
              "      <td>57941.509344</td>\n",
              "      <td>25998.248882</td>\n",
              "      <td>2856.767125</td>\n",
              "    </tr>\n",
              "    <tr>\n",
              "      <th>min</th>\n",
              "      <td>2010.000000</td>\n",
              "      <td>1.500000</td>\n",
              "      <td>3.000000</td>\n",
              "      <td>30000.000000</td>\n",
              "      <td>100.000000</td>\n",
              "    </tr>\n",
              "    <tr>\n",
              "      <th>25%</th>\n",
              "      <td>2013.000000</td>\n",
              "      <td>2.400000</td>\n",
              "      <td>50178.000000</td>\n",
              "      <td>52434.750000</td>\n",
              "      <td>2588.000000</td>\n",
              "    </tr>\n",
              "    <tr>\n",
              "      <th>50%</th>\n",
              "      <td>2017.000000</td>\n",
              "      <td>3.200000</td>\n",
              "      <td>100388.500000</td>\n",
              "      <td>75011.500000</td>\n",
              "      <td>5087.000000</td>\n",
              "    </tr>\n",
              "    <tr>\n",
              "      <th>75%</th>\n",
              "      <td>2021.000000</td>\n",
              "      <td>4.100000</td>\n",
              "      <td>150630.250000</td>\n",
              "      <td>97628.250000</td>\n",
              "      <td>7537.250000</td>\n",
              "    </tr>\n",
              "    <tr>\n",
              "      <th>max</th>\n",
              "      <td>2024.000000</td>\n",
              "      <td>5.000000</td>\n",
              "      <td>199996.000000</td>\n",
              "      <td>119998.000000</td>\n",
              "      <td>9999.000000</td>\n",
              "    </tr>\n",
              "  </tbody>\n",
              "</table>\n",
              "</div>\n",
              "    <div class=\"colab-df-buttons\">\n",
              "\n",
              "  <div class=\"colab-df-container\">\n",
              "    <button class=\"colab-df-convert\" onclick=\"convertToInteractive('df-89e997aa-9431-43e4-b25c-dbbca540ebf4')\"\n",
              "            title=\"Convert this dataframe to an interactive table.\"\n",
              "            style=\"display:none;\">\n",
              "\n",
              "  <svg xmlns=\"http://www.w3.org/2000/svg\" height=\"24px\" viewBox=\"0 -960 960 960\">\n",
              "    <path d=\"M120-120v-720h720v720H120Zm60-500h600v-160H180v160Zm220 220h160v-160H400v160Zm0 220h160v-160H400v160ZM180-400h160v-160H180v160Zm440 0h160v-160H620v160ZM180-180h160v-160H180v160Zm440 0h160v-160H620v160Z\"/>\n",
              "  </svg>\n",
              "    </button>\n",
              "\n",
              "  <style>\n",
              "    .colab-df-container {\n",
              "      display:flex;\n",
              "      gap: 12px;\n",
              "    }\n",
              "\n",
              "    .colab-df-convert {\n",
              "      background-color: #E8F0FE;\n",
              "      border: none;\n",
              "      border-radius: 50%;\n",
              "      cursor: pointer;\n",
              "      display: none;\n",
              "      fill: #1967D2;\n",
              "      height: 32px;\n",
              "      padding: 0 0 0 0;\n",
              "      width: 32px;\n",
              "    }\n",
              "\n",
              "    .colab-df-convert:hover {\n",
              "      background-color: #E2EBFA;\n",
              "      box-shadow: 0px 1px 2px rgba(60, 64, 67, 0.3), 0px 1px 3px 1px rgba(60, 64, 67, 0.15);\n",
              "      fill: #174EA6;\n",
              "    }\n",
              "\n",
              "    .colab-df-buttons div {\n",
              "      margin-bottom: 4px;\n",
              "    }\n",
              "\n",
              "    [theme=dark] .colab-df-convert {\n",
              "      background-color: #3B4455;\n",
              "      fill: #D2E3FC;\n",
              "    }\n",
              "\n",
              "    [theme=dark] .colab-df-convert:hover {\n",
              "      background-color: #434B5C;\n",
              "      box-shadow: 0px 1px 3px 1px rgba(0, 0, 0, 0.15);\n",
              "      filter: drop-shadow(0px 1px 2px rgba(0, 0, 0, 0.3));\n",
              "      fill: #FFFFFF;\n",
              "    }\n",
              "  </style>\n",
              "\n",
              "    <script>\n",
              "      const buttonEl =\n",
              "        document.querySelector('#df-89e997aa-9431-43e4-b25c-dbbca540ebf4 button.colab-df-convert');\n",
              "      buttonEl.style.display =\n",
              "        google.colab.kernel.accessAllowed ? 'block' : 'none';\n",
              "\n",
              "      async function convertToInteractive(key) {\n",
              "        const element = document.querySelector('#df-89e997aa-9431-43e4-b25c-dbbca540ebf4');\n",
              "        const dataTable =\n",
              "          await google.colab.kernel.invokeFunction('convertToInteractive',\n",
              "                                                    [key], {});\n",
              "        if (!dataTable) return;\n",
              "\n",
              "        const docLinkHtml = 'Like what you see? Visit the ' +\n",
              "          '<a target=\"_blank\" href=https://colab.research.google.com/notebooks/data_table.ipynb>data table notebook</a>'\n",
              "          + ' to learn more about interactive tables.';\n",
              "        element.innerHTML = '';\n",
              "        dataTable['output_type'] = 'display_data';\n",
              "        await google.colab.output.renderOutput(dataTable, element);\n",
              "        const docLink = document.createElement('div');\n",
              "        docLink.innerHTML = docLinkHtml;\n",
              "        element.appendChild(docLink);\n",
              "      }\n",
              "    </script>\n",
              "  </div>\n",
              "\n",
              "\n",
              "    <div id=\"df-53a1db46-c2e2-4c2d-8b85-5066ab364b1b\">\n",
              "      <button class=\"colab-df-quickchart\" onclick=\"quickchart('df-53a1db46-c2e2-4c2d-8b85-5066ab364b1b')\"\n",
              "                title=\"Suggest charts\"\n",
              "                style=\"display:none;\">\n",
              "\n",
              "<svg xmlns=\"http://www.w3.org/2000/svg\" height=\"24px\"viewBox=\"0 0 24 24\"\n",
              "     width=\"24px\">\n",
              "    <g>\n",
              "        <path d=\"M19 3H5c-1.1 0-2 .9-2 2v14c0 1.1.9 2 2 2h14c1.1 0 2-.9 2-2V5c0-1.1-.9-2-2-2zM9 17H7v-7h2v7zm4 0h-2V7h2v10zm4 0h-2v-4h2v4z\"/>\n",
              "    </g>\n",
              "</svg>\n",
              "      </button>\n",
              "\n",
              "<style>\n",
              "  .colab-df-quickchart {\n",
              "      --bg-color: #E8F0FE;\n",
              "      --fill-color: #1967D2;\n",
              "      --hover-bg-color: #E2EBFA;\n",
              "      --hover-fill-color: #174EA6;\n",
              "      --disabled-fill-color: #AAA;\n",
              "      --disabled-bg-color: #DDD;\n",
              "  }\n",
              "\n",
              "  [theme=dark] .colab-df-quickchart {\n",
              "      --bg-color: #3B4455;\n",
              "      --fill-color: #D2E3FC;\n",
              "      --hover-bg-color: #434B5C;\n",
              "      --hover-fill-color: #FFFFFF;\n",
              "      --disabled-bg-color: #3B4455;\n",
              "      --disabled-fill-color: #666;\n",
              "  }\n",
              "\n",
              "  .colab-df-quickchart {\n",
              "    background-color: var(--bg-color);\n",
              "    border: none;\n",
              "    border-radius: 50%;\n",
              "    cursor: pointer;\n",
              "    display: none;\n",
              "    fill: var(--fill-color);\n",
              "    height: 32px;\n",
              "    padding: 0;\n",
              "    width: 32px;\n",
              "  }\n",
              "\n",
              "  .colab-df-quickchart:hover {\n",
              "    background-color: var(--hover-bg-color);\n",
              "    box-shadow: 0 1px 2px rgba(60, 64, 67, 0.3), 0 1px 3px 1px rgba(60, 64, 67, 0.15);\n",
              "    fill: var(--button-hover-fill-color);\n",
              "  }\n",
              "\n",
              "  .colab-df-quickchart-complete:disabled,\n",
              "  .colab-df-quickchart-complete:disabled:hover {\n",
              "    background-color: var(--disabled-bg-color);\n",
              "    fill: var(--disabled-fill-color);\n",
              "    box-shadow: none;\n",
              "  }\n",
              "\n",
              "  .colab-df-spinner {\n",
              "    border: 2px solid var(--fill-color);\n",
              "    border-color: transparent;\n",
              "    border-bottom-color: var(--fill-color);\n",
              "    animation:\n",
              "      spin 1s steps(1) infinite;\n",
              "  }\n",
              "\n",
              "  @keyframes spin {\n",
              "    0% {\n",
              "      border-color: transparent;\n",
              "      border-bottom-color: var(--fill-color);\n",
              "      border-left-color: var(--fill-color);\n",
              "    }\n",
              "    20% {\n",
              "      border-color: transparent;\n",
              "      border-left-color: var(--fill-color);\n",
              "      border-top-color: var(--fill-color);\n",
              "    }\n",
              "    30% {\n",
              "      border-color: transparent;\n",
              "      border-left-color: var(--fill-color);\n",
              "      border-top-color: var(--fill-color);\n",
              "      border-right-color: var(--fill-color);\n",
              "    }\n",
              "    40% {\n",
              "      border-color: transparent;\n",
              "      border-right-color: var(--fill-color);\n",
              "      border-top-color: var(--fill-color);\n",
              "    }\n",
              "    60% {\n",
              "      border-color: transparent;\n",
              "      border-right-color: var(--fill-color);\n",
              "    }\n",
              "    80% {\n",
              "      border-color: transparent;\n",
              "      border-right-color: var(--fill-color);\n",
              "      border-bottom-color: var(--fill-color);\n",
              "    }\n",
              "    90% {\n",
              "      border-color: transparent;\n",
              "      border-bottom-color: var(--fill-color);\n",
              "    }\n",
              "  }\n",
              "</style>\n",
              "\n",
              "      <script>\n",
              "        async function quickchart(key) {\n",
              "          const quickchartButtonEl =\n",
              "            document.querySelector('#' + key + ' button');\n",
              "          quickchartButtonEl.disabled = true;  // To prevent multiple clicks.\n",
              "          quickchartButtonEl.classList.add('colab-df-spinner');\n",
              "          try {\n",
              "            const charts = await google.colab.kernel.invokeFunction(\n",
              "                'suggestCharts', [key], {});\n",
              "          } catch (error) {\n",
              "            console.error('Error during call to suggestCharts:', error);\n",
              "          }\n",
              "          quickchartButtonEl.classList.remove('colab-df-spinner');\n",
              "          quickchartButtonEl.classList.add('colab-df-quickchart-complete');\n",
              "        }\n",
              "        (() => {\n",
              "          let quickchartButtonEl =\n",
              "            document.querySelector('#df-53a1db46-c2e2-4c2d-8b85-5066ab364b1b button');\n",
              "          quickchartButtonEl.style.display =\n",
              "            google.colab.kernel.accessAllowed ? 'block' : 'none';\n",
              "        })();\n",
              "      </script>\n",
              "    </div>\n",
              "\n",
              "    </div>\n",
              "  </div>\n"
            ],
            "application/vnd.google.colaboratory.intrinsic+json": {
              "type": "dataframe",
              "summary": "{\n  \"name\": \"bmw_df\",\n  \"rows\": 8,\n  \"fields\": [\n    {\n      \"column\": \"year\",\n      \"properties\": {\n        \"dtype\": \"number\",\n        \"std\": 17080.733758236962,\n        \"min\": 4.32445921809319,\n        \"max\": 50000.0,\n        \"num_unique_values\": 8,\n        \"samples\": [\n          2017.0157,\n          2017.0,\n          50000.0\n        ],\n        \"semantic_type\": \"\",\n        \"description\": \"\"\n      }\n    },\n    {\n      \"column\": \"engine_size_l\",\n      \"properties\": {\n        \"dtype\": \"number\",\n        \"std\": 17676.63638044432,\n        \"min\": 1.0090783975412023,\n        \"max\": 50000.0,\n        \"num_unique_values\": 8,\n        \"samples\": [\n          3.24718,\n          3.2,\n          50000.0\n        ],\n        \"semantic_type\": \"\",\n        \"description\": \"\"\n      }\n    },\n    {\n      \"column\": \"mileage_km\",\n      \"properties\": {\n        \"dtype\": \"number\",\n        \"std\": 63570.40831631417,\n        \"min\": 3.0,\n        \"max\": 199996.0,\n        \"num_unique_values\": 8,\n        \"samples\": [\n          100307.20314,\n          100388.5,\n          50000.0\n        ],\n        \"semantic_type\": \"\",\n        \"description\": \"\"\n      }\n    },\n    {\n      \"column\": \"price_usd\",\n      \"properties\": {\n        \"dtype\": \"number\",\n        \"std\": 32545.942769731973,\n        \"min\": 25998.248881722626,\n        \"max\": 119998.0,\n        \"num_unique_values\": 8,\n        \"samples\": [\n          75034.6009,\n          75011.5,\n          50000.0\n        ],\n        \"semantic_type\": \"\",\n        \"description\": \"\"\n      }\n    },\n    {\n      \"column\": \"sales_volume\",\n      \"properties\": {\n        \"dtype\": \"number\",\n        \"std\": 16288.458032957327,\n        \"min\": 100.0,\n        \"max\": 50000.0,\n        \"num_unique_values\": 8,\n        \"samples\": [\n          5067.51468,\n          5087.0,\n          50000.0\n        ],\n        \"semantic_type\": \"\",\n        \"description\": \"\"\n      }\n    }\n  ]\n}"
            }
          },
          "metadata": {},
          "execution_count": 10
        }
      ]
    },
    {
      "cell_type": "code",
      "source": [
        "for col in bmw_df.columns:\n",
        "    if bmw_df[col].dtypes == 'object':\n",
        "      print(col, bmw_df[col].value_counts())"
      ],
      "metadata": {
        "id": "Hg8ONCSloIGC",
        "colab": {
          "base_uri": "https://localhost:8080/"
        },
        "outputId": "2ff8691c-456f-4cdd-93b5-162dc6092ace"
      },
      "execution_count": 11,
      "outputs": [
        {
          "output_type": "stream",
          "name": "stdout",
          "text": [
            "model model\n",
            "7 Series    4666\n",
            "i3          4618\n",
            "i8          4606\n",
            "3 Series    4595\n",
            "5 Series    4592\n",
            "X1          4570\n",
            "X3          4497\n",
            "X5          4487\n",
            "M5          4478\n",
            "X6          4478\n",
            "M3          4413\n",
            "Name: count, dtype: int64\n",
            "region region\n",
            "Asia             8454\n",
            "Middle East      8373\n",
            "North America    8335\n",
            "Europe           8334\n",
            "Africa           8253\n",
            "South America    8251\n",
            "Name: count, dtype: int64\n",
            "color color\n",
            "Red       8463\n",
            "Silver    8350\n",
            "Grey      8348\n",
            "White     8304\n",
            "Black     8273\n",
            "Blue      8262\n",
            "Name: count, dtype: int64\n",
            "fuel_type fuel_type\n",
            "Hybrid      12716\n",
            "Petrol      12550\n",
            "Electric    12471\n",
            "Diesel      12263\n",
            "Name: count, dtype: int64\n",
            "transmission transmission\n",
            "Manual       25154\n",
            "Automatic    24846\n",
            "Name: count, dtype: int64\n",
            "sales_classification sales_classification\n",
            "Low     34754\n",
            "High    15246\n",
            "Name: count, dtype: int64\n"
          ]
        }
      ]
    },
    {
      "cell_type": "code",
      "source": [
        "# Define target and features (exclude leakage)\n",
        "target = 'sales_classification'\n",
        "leak_cols = ['sales_volume'] # A leak column is a feature that contains direct or indirect information about the target that wouldn’t be available at prediction time.\n",
        "feature_cols = [col for col in bmw_df.columns if col not in [target] + leak_cols]\n",
        "\n",
        "X = bmw_df[feature_cols].copy()\n",
        "y = bmw_df[target].copy()\n",
        "# copy the columns to their corresponding variable (X or y) so whatever modifications that we do (encode, scale, or transform X or y), the original dataset won't get affected."
      ],
      "metadata": {
        "id": "IMutDMfjoX2M"
      },
      "execution_count": 12,
      "outputs": []
    },
    {
      "cell_type": "code",
      "source": [
        "# Identify column types\n",
        "cat_cols = X.select_dtypes(include = 'object').columns.tolist()\n",
        "num_cols = X.select_dtypes(exclude = 'object').columns.tolist()\n",
        "# .columns gives the Index object of column names, not a plain Python list.\n",
        "# .tolist() just converts the pandas Index → Python list if you want to treat them like a regular Python list (so you can loop, slice, or print cleanly)\n",
        "\n",
        "print(f'Categorical columns: {cat_cols}')\n",
        "print(f'Numerical columns: {num_cols}')"
      ],
      "metadata": {
        "id": "_xUCJ6Eh5396",
        "colab": {
          "base_uri": "https://localhost:8080/"
        },
        "outputId": "dc9ee12a-a2b7-4383-8d0a-712524634460"
      },
      "execution_count": 13,
      "outputs": [
        {
          "output_type": "stream",
          "name": "stdout",
          "text": [
            "Categorical columns: ['model', 'region', 'color', 'fuel_type', 'transmission']\n",
            "Numerical columns: ['year', 'engine_size_l', 'mileage_km', 'price_usd']\n"
          ]
        }
      ]
    },
    {
      "cell_type": "code",
      "source": [
        "# Train/test split with stratification\n",
        "X_train, X_test, y_train, y_test = train_test_split(\n",
        "    X, y,\n",
        "    test_size = 0.2,\n",
        "    random_state = 42,\n",
        "    stratify = y # ensures the class distribution is preserved in both train and test set\n",
        "    # Without it, you could end up with unbalanced splits (e.g., training has 80% \"Low\" but test has only 10% \"Low\")\n",
        "    # With stratify = y, both sets have about the same proportion of High vs Low sales as the original dataset (~69% Low, ~31% High).\n",
        ")\n",
        "# Always split first → then build preprocessing pipelines. That keeps your test data truly unseen until evaluation.\n",
        "# If you apply transformations (encoding, scaling) before splitting, your test set is no longer “unseen.”\n",
        "\n",
        "\n",
        "# Sanity checks\n",
        "print(len(X_train), len(X_test))\n",
        "print(y_train.value_counts(normalize = True))\n",
        "print(y_test. value_counts(normalize = True))"
      ],
      "metadata": {
        "id": "5do6CgMU6Zxy",
        "colab": {
          "base_uri": "https://localhost:8080/"
        },
        "outputId": "c5657af2-31ff-458f-aa6f-f35a3ef50198"
      },
      "execution_count": 14,
      "outputs": [
        {
          "output_type": "stream",
          "name": "stdout",
          "text": [
            "40000 10000\n",
            "sales_classification\n",
            "Low     0.695075\n",
            "High    0.304925\n",
            "Name: proportion, dtype: float64\n",
            "sales_classification\n",
            "Low     0.6951\n",
            "High    0.3049\n",
            "Name: proportion, dtype: float64\n"
          ]
        }
      ]
    },
    {
      "cell_type": "markdown",
      "source": [
        "# Preprocessing pipeline"
      ],
      "metadata": {
        "id": "-w58mSBXO5Ur"
      }
    },
    {
      "cell_type": "code",
      "source": [
        "# Preprocessing pipeline\n",
        "preprocessor = ColumnTransformer(\n",
        "    transformers = [\n",
        "        ('cat', OneHotEncoder(handle_unknown = 'ignore'), cat_cols),\n",
        "        ('num', StandardScaler(), num_cols)\n",
        "    ]\n",
        ")\n",
        "# ColumnTransformer lets you apply different preprocessing steps to different columns in a single pipeline\n",
        "# Its purpose is to handle mixed data types (numeric, categorical, text) without mannually splitting the dataset"
      ],
      "metadata": {
        "id": "r-vlYsIb99nK"
      },
      "execution_count": 15,
      "outputs": []
    },
    {
      "cell_type": "markdown",
      "source": [
        "# Build the baseline Logistic Regression pipeline that combines preprocessing (OneHotEncoder + StandardScaler) with the model."
      ],
      "metadata": {
        "id": "xxzcnHzmPLWn"
      }
    },
    {
      "cell_type": "code",
      "source": [
        "# Full pipeline: preprocessing then fit the model\n",
        "clf = Pipeline(steps = [ # steps=[('name', transformer/model)] → gives each step a label.\n",
        "    ('preprocessor', preprocessor),\n",
        "    ('classifier', LogisticRegression(max_iter = 1000, #\n",
        "                                      class_weight = 'balanced')) # classes are imbalanced (69% Low vs 31% High).\n",
        "])\n",
        "# Pipeline chains multiple steps (preprocessing + model) into one object.\n",
        "# Ensures correct order: first preprocess features → then fit the model.\n",
        "# Keeps train/test clean: preprocess is fitted only on training data inside the pipeline.\n",
        "\n",
        "# Logistic Regression uses an iterative optimization algorithm.\n",
        "# Default max_iter is 100. Sometimes that’s too small → model fails to converge.\n",
        "# Setting 1000 gives it enough iterations to find stable coefficients."
      ],
      "metadata": {
        "id": "Nf8Tf9o_BO0W"
      },
      "execution_count": 16,
      "outputs": []
    },
    {
      "cell_type": "code",
      "source": [
        "clf.fit(X_train, y_train)\n",
        "\n",
        "y_pred = clf.predict(X_test)\n",
        "\n",
        "print(confusion_matrix(y_test, y_pred, labels = ['High', 'Low']))\n",
        "print(classification_report(y_test, y_pred, labels = ['High', 'Low']))"
      ],
      "metadata": {
        "id": "e3K1o80t8jHr",
        "colab": {
          "base_uri": "https://localhost:8080/"
        },
        "outputId": "d8a7a3c3-abc9-4a66-fb4e-5359ab0d76e1"
      },
      "execution_count": 17,
      "outputs": [
        {
          "output_type": "stream",
          "name": "stdout",
          "text": [
            "[[1505 1544]\n",
            " [3434 3517]]\n",
            "              precision    recall  f1-score   support\n",
            "\n",
            "        High       0.30      0.49      0.38      3049\n",
            "         Low       0.69      0.51      0.59      6951\n",
            "\n",
            "    accuracy                           0.50     10000\n",
            "   macro avg       0.50      0.50      0.48     10000\n",
            "weighted avg       0.58      0.50      0.52     10000\n",
            "\n"
          ]
        }
      ]
    },
    {
      "cell_type": "code",
      "source": [
        "# 1505 Correctly predicted High.\n",
        "# 1544 High misclassified as Low.\n",
        "# 3434 Low misclassified as High.\n",
        "# 3517 Correctly predicted Low."
      ],
      "metadata": {
        "id": "abdM8Grb-cWX"
      },
      "execution_count": 18,
      "outputs": []
    },
    {
      "cell_type": "code",
      "source": [
        "# High (minority class, 30%)\n",
        "# Precision = 0.30 → When it predicts High, only 30% are actually High.\n",
        "# Recall = 0.49 → Captures about half of the true Highs.\n",
        "# F1 = 0.38 → Weak.\n",
        "\n",
        "# Low (majority class, 70%)\n",
        "# Precision = 0.69 → When it predicts Low, 69% are correct.\n",
        "# Recall = 0.51 → Only identifies half of the true Lows.\n",
        "# F1 = 0.59 → Better than High, but still not good.\n",
        "\n",
        "# Overall:\n",
        "# Accuracy = 0.50 → Essentially coin flip.\n",
        "# Macro avg F1 = 0.48 → Both classes treated equally → bad.\n",
        "# Weighted avg F1 = 0.52 → Slightly better due to class imbalance, but still poor."
      ],
      "metadata": {
        "id": "1wUntnVd-ajG"
      },
      "execution_count": 19,
      "outputs": []
    },
    {
      "cell_type": "markdown",
      "source": [
        "# Decision Tree baseline."
      ],
      "metadata": {
        "id": "iwtT4gmePkWM"
      }
    },
    {
      "cell_type": "code",
      "source": [
        "dt_clf = Pipeline(steps = [\n",
        "    ('preprocessor', preprocessor),\n",
        "    ('classifier', DecisionTreeClassifier(class_weight = 'balanced',\n",
        "                                          random_state = 42))\n",
        "])\n",
        "\n",
        "dt_clf.fit(X_train, y_train)\n",
        "\n",
        "y_pred_dt = dt_clf.predict(X_test)\n",
        "\n",
        "print(confusion_matrix(y_test, y_pred_dt, labels=['High', 'Low']))\n",
        "print(classification_report(y_test, y_pred_dt, labels=['High', 'Low']))"
      ],
      "metadata": {
        "id": "DaZNgiuK_Wb5",
        "colab": {
          "base_uri": "https://localhost:8080/"
        },
        "outputId": "d8da0d1c-91dc-42a1-f9d2-9d5847c89159"
      },
      "execution_count": 20,
      "outputs": [
        {
          "output_type": "stream",
          "name": "stdout",
          "text": [
            "[[ 900 2149]\n",
            " [2158 4793]]\n",
            "              precision    recall  f1-score   support\n",
            "\n",
            "        High       0.29      0.30      0.29      3049\n",
            "         Low       0.69      0.69      0.69      6951\n",
            "\n",
            "    accuracy                           0.57     10000\n",
            "   macro avg       0.49      0.49      0.49     10000\n",
            "weighted avg       0.57      0.57      0.57     10000\n",
            "\n"
          ]
        }
      ]
    },
    {
      "cell_type": "code",
      "source": [
        "# The Decision Tree baseline is slightly better than Logistic Regression, but still weak:\n",
        "# High sales: only 900 correctly identified out of 3,049.\n",
        "# Low sales: 4,793 correctly identified out of 6,951."
      ],
      "metadata": {
        "id": "YjV5YN6JB-sV"
      },
      "execution_count": 21,
      "outputs": []
    },
    {
      "cell_type": "code",
      "source": [
        "# High class (minority):\n",
        "# Precision 0.29 → Only 29% of predicted Highs are true Highs.\n",
        "# Recall 0.29 → Finds less than a third of real Highs.\n",
        "# F1 = 0.29 → Very weak.\n",
        "\n",
        "# Low class (majority):\n",
        "# Precision 0.69 → Decent.\n",
        "# Recall 0.69 → Decent.\n",
        "# F1 = 0.69 → Better than High.\n",
        "\n",
        "# Overall:\n",
        "# Accuracy 0.57 (better than logistic regression’s 0.50).\n",
        "# Macro average F1 = 0.49 (treats both classes equally → poor).\n",
        "# Weighted average F1 = 0.57."
      ],
      "metadata": {
        "id": "QcPK3iPNCjlg"
      },
      "execution_count": 22,
      "outputs": []
    },
    {
      "cell_type": "markdown",
      "source": [
        "# Tune max_depth, min_samples_split, min_samples_leaf.?"
      ],
      "metadata": {
        "id": "2fGTjMp1PuYZ"
      }
    },
    {
      "cell_type": "markdown",
      "source": [
        "Right now the Decision Tree is fully grown (max_depth=None), which almost always overfits. Let’s prune it by tuning:"
      ],
      "metadata": {
        "id": "FP9_SwEWPwn3"
      }
    },
    {
      "cell_type": "code",
      "source": [
        "param_grid = {\n",
        "    'classifier__max_depth': [5, 10, 15, None], # limits tree height (simpler tree = less overfit).\n",
        "    'classifier__min_samples_split': [2, 10, 20], # minimum samples to split a node.\n",
        "    'classifier__min_samples_leaf': [1, 5, 10] # # minimum samples in a leaf.\n",
        "}\n",
        "\n",
        "grid_dt = GridSearchCV(\n",
        "    dt_clf,\n",
        "    param_grid,\n",
        "    scoring = 'f1_macro', # balances High vs Low performance.\n",
        "    cv = 3, # Uses 3-fold cross-validation. Training data is split into 3 folds. Each fold is used once as validation and twice as training. Final score is the average.\n",
        "    n_jobs = -1, # Runs in parallel using all available CPU cores. Speeds up grid search.\n",
        "    refit = True # After finding the best hyperparameters, retrains (refits) the estimator on the entire training set with those best parameters. That refitted model is stored in grid_dt.best_estimator_.\n",
        ")\n",
        "\n",
        "grid_dt.fit(X_train, y_train)\n",
        "print(\"Best params:\", grid_dt.best_params_)\n",
        "print(\"Best CV f1_macro:\", grid_dt.best_score_)"
      ],
      "metadata": {
        "id": "uyJxmylqJqUG",
        "colab": {
          "base_uri": "https://localhost:8080/"
        },
        "outputId": "1c8fb0ff-97b1-4e7e-fd81-5bef470cb2c3"
      },
      "execution_count": 23,
      "outputs": [
        {
          "output_type": "stream",
          "name": "stdout",
          "text": [
            "Best params: {'classifier__max_depth': None, 'classifier__min_samples_leaf': 1, 'classifier__min_samples_split': 2}\n",
            "Best CV f1_macro: 0.499303380049791\n"
          ]
        }
      ]
    },
    {
      "cell_type": "code",
      "source": [
        "# Result: the grid chose an unpruned tree (max_depth = None, min_samples_leaf = 1, min_samples_split = 2). CV f1_macro = 0.50"
      ],
      "metadata": {
        "id": "l6VXpIpaRXev"
      },
      "execution_count": 24,
      "outputs": []
    },
    {
      "cell_type": "code",
      "source": [
        "# evaluate best model on test\n",
        "best_dt = grid_dt.best_estimator_\n",
        "y_pred_dt = best_dt.predict(X_test)\n",
        "\n",
        "print(confusion_matrix(y_test, y_pred_dt, labels=['High', 'Low']))\n",
        "print(classification_report(y_test, y_pred_dt, labels=['High', 'Low']))"
      ],
      "metadata": {
        "id": "yxem7rV8PCoZ",
        "colab": {
          "base_uri": "https://localhost:8080/"
        },
        "outputId": "4e9756d8-c7b2-4d82-8a8e-2ddc58a33569"
      },
      "execution_count": 25,
      "outputs": [
        {
          "output_type": "stream",
          "name": "stdout",
          "text": [
            "[[ 900 2149]\n",
            " [2158 4793]]\n",
            "              precision    recall  f1-score   support\n",
            "\n",
            "        High       0.29      0.30      0.29      3049\n",
            "         Low       0.69      0.69      0.69      6951\n",
            "\n",
            "    accuracy                           0.57     10000\n",
            "   macro avg       0.49      0.49      0.49     10000\n",
            "weighted avg       0.57      0.57      0.57     10000\n",
            "\n"
          ]
        }
      ]
    },
    {
      "cell_type": "code",
      "source": [
        "# Test metrics are the same as before: accuracy 0.57, high F1 = 0.29. A single tree is week and not improving with pruning.\n",
        "# CV F1_macro ≈ 0.499. Test metrics are unchanged (F1 High ≈ 0.29, accuracy ≈ 0.57).\n",
        "# Conclusion: the tree still overfits and generalizes poorly. The grid was too mild to push pruning."
      ],
      "metadata": {
        "id": "BqsLyGHHLlQn"
      },
      "execution_count": 26,
      "outputs": []
    },
    {
      "cell_type": "markdown",
      "source": [
        "# High-leverage fix: Force shallower, smoother trees or move to ensembles."
      ],
      "metadata": {
        "id": "qrxwMBD1QglT"
      }
    },
    {
      "cell_type": "code",
      "source": [
        "param_grid = {\n",
        "    'classifier__max_depth': [3, 5, 7, 9, 12],\n",
        "    'classifier__min_samples_split': [20, 50, 100],\n",
        "    'classifier__min_samples_leaf': [10, 25, 50]\n",
        "}\n",
        "\n",
        "grid_dt = GridSearchCV(\n",
        "    dt_clf,\n",
        "    param_grid,\n",
        "    scoring = 'f1_macro', # balances High vs Low performance.\n",
        "    cv = 3, # Uses 3-fold cross-validation. Training data is split into 3 folds. Each fold is used once as validation and twice as training. Final score is the average.\n",
        "    n_jobs = -1, # Runs in parallel using all available CPU cores. Speeds up grid search.\n",
        "    refit = True # After finding the best hyperparameters, retrains (refits) the estimator on the entire training set with those best parameters. That refitted model is stored in grid_dt.best_estimator_.\n",
        ")\n",
        "\n",
        "grid_dt.fit(X_train, y_train)\n",
        "print(\"Best params:\", grid_dt.best_params_)\n",
        "print(\"Best CV f1_macro:\", grid_dt.best_score_)"
      ],
      "metadata": {
        "id": "VLPONiR2lZD_",
        "colab": {
          "base_uri": "https://localhost:8080/"
        },
        "outputId": "0081e86d-8f2e-46bd-b5e9-2f0bd5f50be2"
      },
      "execution_count": 27,
      "outputs": [
        {
          "output_type": "stream",
          "name": "stdout",
          "text": [
            "Best params: {'classifier__max_depth': 12, 'classifier__min_samples_leaf': 10, 'classifier__min_samples_split': 100}\n",
            "Best CV f1_macro: 0.49651698989263854\n"
          ]
        }
      ]
    },
    {
      "cell_type": "code",
      "source": [
        "# Tree was forced to be pruned (not fully grown).\n",
        "# Best CV f1_macro ≈ 0.497, About the same as before, meaning Decision Tree isn’t capturing strong patterns."
      ],
      "metadata": {
        "id": "LJ6ipFckm3b7"
      },
      "execution_count": 28,
      "outputs": []
    },
    {
      "cell_type": "code",
      "source": [
        "# evaluate best model on test\n",
        "best_dt = grid_dt.best_estimator_\n",
        "y_pred_dt = best_dt.predict(X_test)\n",
        "\n",
        "print(confusion_matrix(y_test, y_pred_dt, labels=['High', 'Low']))\n",
        "print(classification_report(y_test, y_pred_dt, labels=['High', 'Low']))"
      ],
      "metadata": {
        "id": "0a3dF5fJlbIc",
        "colab": {
          "base_uri": "https://localhost:8080/"
        },
        "outputId": "d6fde34e-4eef-4543-f4b5-8de30dfa33d7"
      },
      "execution_count": 29,
      "outputs": [
        {
          "output_type": "stream",
          "name": "stdout",
          "text": [
            "[[2102  947]\n",
            " [4714 2237]]\n",
            "              precision    recall  f1-score   support\n",
            "\n",
            "        High       0.31      0.69      0.43      3049\n",
            "         Low       0.70      0.32      0.44      6951\n",
            "\n",
            "    accuracy                           0.43     10000\n",
            "   macro avg       0.51      0.51      0.43     10000\n",
            "weighted avg       0.58      0.43      0.44     10000\n",
            "\n"
          ]
        }
      ]
    },
    {
      "cell_type": "code",
      "source": [
        "# High class:\n",
        "# Precision = 0.31 → 31% of predicted Highs are true.\n",
        "# Recall = 0.69 → picks up 69% of actual Highs.\n",
        "# F1 = 0.43 → better recall, weak precision.\n",
        "\n",
        "# Low class:\n",
        "# Precision = 0.70\n",
        "# Recall = 0.32\n",
        "# F1 = 0.44\n",
        "\n",
        "# Accuracy = 0.43\n",
        "# Macro avg F1 = 0.44"
      ],
      "metadata": {
        "id": "fZyacM9JRBK3"
      },
      "execution_count": 30,
      "outputs": []
    },
    {
      "cell_type": "code",
      "source": [
        "# Compared to earlier trees, this one improved recall for High (it finds more High cars).\n",
        "# But it badly misses many Low cars → low recall for Low class.\n",
        "# Accuracy fell to 0.43, so overall worse balance.\n",
        "# Still not useful for a dealership in practice."
      ],
      "metadata": {
        "id": "BrLrT6kEmRCX"
      },
      "execution_count": 31,
      "outputs": []
    },
    {
      "cell_type": "markdown",
      "source": [
        "# Random Forest pipeline."
      ],
      "metadata": {
        "id": "ReH6T4ZaRP88"
      }
    },
    {
      "cell_type": "code",
      "source": [
        "# Random Forest pipeline\n",
        "rf_clf = Pipeline(steps = [\n",
        "    ('preprocessor', preprocessor),\n",
        "    ('classifier', RandomForestClassifier(\n",
        "        n_estimators = 200, # number of trees (more = better but slower)\n",
        "        max_depth = None, # let trees grow deep\n",
        "        class_weight = 'balanced', # handle imbalance\n",
        "        random_state = 42,\n",
        "        n_jobs = -1 # use all CPU cores\n",
        "    ))\n",
        "])\n",
        "\n",
        "rf_clf.fit(X_train, y_train)\n",
        "\n",
        "y_pred_rf = rf_clf.predict(X_test)\n",
        "\n",
        "print(confusion_matrix(y_test, y_pred_rf, labels=['High', 'Low']))\n",
        "print(classification_report(y_test, y_pred_rf, labels=['High', 'Low']))"
      ],
      "metadata": {
        "id": "VaGw7qUu5WkG",
        "colab": {
          "base_uri": "https://localhost:8080/"
        },
        "outputId": "a4bf60d0-eba6-4a0a-ed8d-5c608bafed96"
      },
      "execution_count": 32,
      "outputs": [
        {
          "output_type": "stream",
          "name": "stdout",
          "text": [
            "[[  43 3006]\n",
            " [ 107 6844]]\n",
            "              precision    recall  f1-score   support\n",
            "\n",
            "        High       0.29      0.01      0.03      3049\n",
            "         Low       0.69      0.98      0.81      6951\n",
            "\n",
            "    accuracy                           0.69     10000\n",
            "   macro avg       0.49      0.50      0.42     10000\n",
            "weighted avg       0.57      0.69      0.57     10000\n",
            "\n"
          ]
        }
      ]
    },
    {
      "cell_type": "code",
      "source": [
        "# Almost all High cars are misclassified as Low.\n",
        "# Low cars are classified correctly (6844 out of 6951)."
      ],
      "metadata": {
        "id": "sb8Dwos_ADsf"
      },
      "execution_count": 33,
      "outputs": []
    },
    {
      "cell_type": "code",
      "source": [
        "# High (minority)\n",
        "# Precision 0.29 (but recall = 0.01) → the model predicts almost no Highs.\n",
        "# F1 = 0.03 → basically useless.\n",
        "\n",
        "# Low (majority)\n",
        "# Precision 0.69\n",
        "# Recall 0.98 → nearly every Low is captured.\n",
        "# F1 = 0.81\n",
        "\n",
        "# Overall\n",
        "# Accuracy = 0.69 (looks decent, but misleading because it ignores Highs).\n",
        "# Macro avg F1 = 0.42 (very low, because High is ignored).\n",
        "# Weighted avg F1 = 0.57."
      ],
      "metadata": {
        "id": "ikqmMBgJ_eLI"
      },
      "execution_count": 34,
      "outputs": []
    },
    {
      "cell_type": "code",
      "source": [
        "# Interpretation\n",
        "# The Random Forest collapsed into majority-class prediction (predicts almost everything as Low).\n",
        "# This is a classic imbalance issue: even with class_weight='balanced', it prefers the dominant class.\n",
        "# For stakeholders, this model is unusable because it can’t identify High-sales cars."
      ],
      "metadata": {
        "id": "DT-KCVrnAv5a"
      },
      "execution_count": 35,
      "outputs": []
    },
    {
      "cell_type": "markdown",
      "source": [
        "# Use SMOTE oversampling to balance class"
      ],
      "metadata": {
        "id": "qo7noF57RXGa"
      }
    },
    {
      "cell_type": "code",
      "source": [
        "# Convert train data after preprocessing into numeric form\n",
        "X_train_transform = preprocessor.fit_transform(X_train)\n",
        "X_test_transform = preprocessor.fit_transform(X_test)\n",
        "\n",
        "# Since Random Forest did not respect the minority class, use SMOTE to oversample High or undersample Low\n",
        "# Apply SMOTE on the training set only\n",
        "smote = SMOTE(random_state = 42)\n",
        "X_train_resample, y_train_resample = smote.fit_resample(X_train_transform, y_train)\n",
        "\n",
        "print(f'Before SMOTE: {y_train.value_counts()}')\n",
        "print(f'After SMOTE: {y_train_resample.value_counts()}')"
      ],
      "metadata": {
        "id": "kD66qUjvA7OQ",
        "colab": {
          "base_uri": "https://localhost:8080/"
        },
        "outputId": "928f00bc-a9a4-49a0-a771-0a3378709fd4"
      },
      "execution_count": 36,
      "outputs": [
        {
          "output_type": "stream",
          "name": "stdout",
          "text": [
            "Before SMOTE: sales_classification\n",
            "Low     27803\n",
            "High    12197\n",
            "Name: count, dtype: int64\n",
            "After SMOTE: sales_classification\n",
            "Low     27803\n",
            "High    27803\n",
            "Name: count, dtype: int64\n"
          ]
        }
      ]
    },
    {
      "cell_type": "markdown",
      "source": [
        "# SMOTE + Random Forest"
      ],
      "metadata": {
        "id": "oHzOzV_O_BG1"
      }
    },
    {
      "cell_type": "code",
      "source": [
        "rf_smote = RandomForestClassifier(\n",
        "    n_estimators = 200,\n",
        "    max_depth = None,\n",
        "    random_state = 42,\n",
        "    n_jobs = -1\n",
        ")\n",
        "\n",
        "rf_smote.fit(X_train_resample, y_train_resample)\n",
        "\n",
        "y_pred_rf_smote = rf_smote.predict(X_test_transform)\n",
        "\n",
        "print(confusion_matrix(y_test, y_pred_rf_smote, labels=['High', 'Low']))\n",
        "print(classification_report(y_test, y_pred_rf_smote, labels=['High', 'Low']))"
      ],
      "metadata": {
        "id": "1pqO6wzIDpXc",
        "colab": {
          "base_uri": "https://localhost:8080/"
        },
        "outputId": "7fd0608e-4c0b-4100-bb55-780781df1b79"
      },
      "execution_count": 37,
      "outputs": [
        {
          "output_type": "stream",
          "name": "stdout",
          "text": [
            "[[ 615 2434]\n",
            " [1466 5485]]\n",
            "              precision    recall  f1-score   support\n",
            "\n",
            "        High       0.30      0.20      0.24      3049\n",
            "         Low       0.69      0.79      0.74      6951\n",
            "\n",
            "    accuracy                           0.61     10000\n",
            "   macro avg       0.49      0.50      0.49     10000\n",
            "weighted avg       0.57      0.61      0.59     10000\n",
            "\n"
          ]
        }
      ]
    },
    {
      "cell_type": "code",
      "source": [
        "# Model correctly catches 615 Highs (better than before, where it barely caught any).\n",
        "# Still misses many Highs (2434 misclassified)."
      ],
      "metadata": {
        "id": "VCj_mCalKWT3"
      },
      "execution_count": 38,
      "outputs": []
    },
    {
      "cell_type": "code",
      "source": [
        "# High class (important):\n",
        "# Precision = 0.30 → 30% of predicted Highs are correct.\n",
        "# Recall = 0.20 → catches 20% of actual Highs (better than 1% before, but still low).\n",
        "# F1 = 0.24 → weak but improving.\n",
        "\n",
        "# Low class:\n",
        "# Precision = 0.69, Recall = 0.79, F1 = 0.74 → much stronger.\n",
        "\n",
        "# Overall:\n",
        "# Accuracy = 0.61\n",
        "# Macro avg F1 = 0.49 (treats classes equally).\n",
        "# Weighted avg F1 = 0.59."
      ],
      "metadata": {
        "id": "SbE5PWjDH1qB"
      },
      "execution_count": 39,
      "outputs": []
    },
    {
      "cell_type": "code",
      "source": [
        "# SMOTE helped: the model now predicts some Highs instead of ignoring them.\n",
        "# But recall for High is still low.\n",
        "# Dealers would still miss many cars that should be classified as High sales."
      ],
      "metadata": {
        "id": "YizBVprONRrX"
      },
      "execution_count": 40,
      "outputs": []
    },
    {
      "cell_type": "markdown",
      "source": [
        "# Threshold Tuning"
      ],
      "metadata": {
        "id": "qJuURM4Y_ODD"
      }
    },
    {
      "cell_type": "code",
      "source": [
        "# Tune the decision threshold. By default, Random Forest predicts “High” if probability > 0.5. We’ll lower that cutoff (e.g. 0.3) to catch more High cases.\n",
        "y_proba = rf_smote.predict_proba(X_test_transform)[:, 1] # prob of High\n",
        "\n",
        "# Lower the threshold\n",
        "threshold = 0.3\n",
        "y_pred_thresh = (y_proba >= threshold).astype(int)\n",
        "# Lower threshold → model predicts more “High.”\n",
        "# Recall for High ↑\n",
        "# Precision for High ↓\n",
        "# Trade-off depends on business needs (dealers might prefer recall — better to flag potential Highs even with some false alarms).\n",
        "\n",
        "print('Confusion Matrix (threshold = 0.3):')\n",
        "print(confusion_matrix(y_test.map({'Low':0,'High':1}), y_pred_thresh, labels=[1,0]))\n",
        "print(classification_report(y_test.map({'Low':0,'High':1}), y_pred_thresh, labels=[1,0], target_names=['High','Low']))"
      ],
      "metadata": {
        "id": "hBKV8YBQNUdD",
        "colab": {
          "base_uri": "https://localhost:8080/"
        },
        "outputId": "01c50cf4-0f43-4457-c5e7-33bb3ed3d5ed"
      },
      "execution_count": 41,
      "outputs": [
        {
          "output_type": "stream",
          "name": "stdout",
          "text": [
            "Confusion Matrix (threshold = 0.3):\n",
            "[[3018   31]\n",
            " [6901   50]]\n",
            "              precision    recall  f1-score   support\n",
            "\n",
            "        High       0.30      0.99      0.47      3049\n",
            "         Low       0.62      0.01      0.01      6951\n",
            "\n",
            "    accuracy                           0.31     10000\n",
            "   macro avg       0.46      0.50      0.24     10000\n",
            "weighted avg       0.52      0.31      0.15     10000\n",
            "\n"
          ]
        }
      ]
    },
    {
      "cell_type": "code",
      "source": [
        "# Low (majority)\n",
        "# Precision = 0.62\n",
        "# Recall = 0.01 (almost all Lows are misclassified as High).\n",
        "# F1 = 0.02 → collapsed.\n",
        "\n",
        "# High (minority)\n",
        "# Precision = 0.30\n",
        "# Recall = 0.99 (catches almost every High).\n",
        "# F1 = 0.47 → big jump in recall, but poor precision.\n",
        "\n",
        "# Overall:\n",
        "# Accuracy = 0.31 (dropped heavily).\n",
        "# Macro avg F1 = 0.24.\n",
        "# Weighted avg F1 = 0.15."
      ],
      "metadata": {
        "id": "4SOwU33k7c1a"
      },
      "execution_count": 42,
      "outputs": []
    },
    {
      "cell_type": "code",
      "source": [
        "# At threshold 0.3, the model basically predicts nearly everything as High.\n",
        "# Great recall (99%) but precision is bad (many false Highs).\n",
        "# For dealerships, this means you won’t miss any High-sales cars, but you’ll also waste resources pushing many Low-sales cars."
      ],
      "metadata": {
        "id": "XuZOa6GK8Q9Z"
      },
      "execution_count": 43,
      "outputs": []
    },
    {
      "cell_type": "markdown",
      "source": [
        "# Scan across multiple thresholds (0.2 → 0.5). Then plot precision–recall tradeoff to choose the best cutoff depending on business needs."
      ],
      "metadata": {
        "id": "eSAO9JRD_bUH"
      }
    },
    {
      "cell_type": "code",
      "source": [
        "y_true = y_test.map({'Low': 0, 'High': 1}).values\n",
        "# y_test is your labels as text (“Low” or “High”).\n",
        "# .map({'Low':0,'High':1}) converts them into numeric 0/1.\n",
        "# 0 = Low\n",
        "# 1 = High\n",
        "# .values makes it a NumPy array, required for metrics.\n",
        "\n",
        "y_proba = rf_smote.predict_proba(X_test_transform)[:, 1]\n",
        "# predict_proba returns probabilities for both classes: [prob_Low, prob_High].\n",
        "# [:, 1] selects the second column = probability of class “High” for every row.\n",
        "# So y_proba is a vector of length = number of test samples, each entry between 0 and 1.\n",
        "\n",
        "thresholds = np.linspace(0.1, 0.9, 9) # Makes an array of thresholds: [0.1, 0.2, ..., 0.9].\n",
        "precisions, recalls, f1s = [], [], []\n",
        "\n",
        "for threshold in thresholds:\n",
        "  y_pred = (y_proba >= threshold).astype(int)\n",
        "  # For each sample, compare probability against threshold thr.\n",
        "  # If prob >= thr → predict 1 (High).\n",
        "  # Else → predict 0 (Low).\n",
        "  # .astype(int) converts the boolean results (True/False) into integers (1/0).\n",
        "\n",
        "  precisions.append(precision_score(y_true, y_pred))\n",
        "  recalls.append(recall_score(y_true, y_pred))\n",
        "  f1s.append(f1_score(y_true, y_pred))\n",
        "\n",
        "\n",
        "# Print summary\n",
        "for threshold, precision, recall, f1 in zip(thresholds, precisions, recalls, f1s):\n",
        "  print(f'Threshold = {threshold: .2f} Precision = {precision: .2f} Recall = {recall: .2f}, F1 = {f1: .2f}')\n",
        "\n",
        "\n",
        "# Plot trade-off\n",
        "plt.plot(thresholds, precisions, label = 'Precision')\n",
        "plt.plot(thresholds, recalls, label = 'Recall')\n",
        "plt.plot(thresholds, f1s, label = 'F1-score')\n",
        "plt.xlabel('Threshold')\n",
        "plt.ylabel('Score')\n",
        "plt.title('Precision/Recall/F1 vs. Threshold')\n",
        "plt.legend()\n",
        "plt.show()"
      ],
      "metadata": {
        "id": "cOWwN6Pv8rde",
        "colab": {
          "base_uri": "https://localhost:8080/",
          "height": 628
        },
        "outputId": "0600ce74-52b3-4046-a78f-45903d184563"
      },
      "execution_count": 44,
      "outputs": [
        {
          "output_type": "stream",
          "name": "stdout",
          "text": [
            "Threshold =  0.10 Precision =  0.30 Recall =  1.00, F1 =  0.47\n",
            "Threshold =  0.20 Precision =  0.30 Recall =  1.00, F1 =  0.47\n",
            "Threshold =  0.30 Precision =  0.30 Recall =  0.99, F1 =  0.47\n",
            "Threshold =  0.40 Precision =  0.30 Recall =  0.95, F1 =  0.46\n",
            "Threshold =  0.50 Precision =  0.31 Recall =  0.81, F1 =  0.44\n",
            "Threshold =  0.60 Precision =  0.31 Recall =  0.56, F1 =  0.40\n",
            "Threshold =  0.70 Precision =  0.31 Recall =  0.22, F1 =  0.26\n",
            "Threshold =  0.80 Precision =  0.30 Recall =  0.04, F1 =  0.07\n",
            "Threshold =  0.90 Precision =  0.50 Recall =  0.00, F1 =  0.00\n"
          ]
        },
        {
          "output_type": "display_data",
          "data": {
            "text/plain": [
              "<Figure size 640x480 with 1 Axes>"
            ],
            "image/png": "[encoded data removed]"
          },
          "metadata": {}
        }
      ]
    },
    {
      "cell_type": "markdown",
      "source": [
        "# Evaluate a stronger ensemble method — XGBoost (boosted trees)"
      ],
      "metadata": {
        "id": "G5YOkRGP_2dB"
      }
    },
    {
      "cell_type": "code",
      "source": [
        "\n",
        "y_train_num = y_train.map({'Low': 0, 'High': 1}).values\n",
        "y_test_num = y_test.map({'Low': 0, 'High': 1}).values\n",
        "\n",
        "X_train_resample, y_train_resample = SMOTE(random_state = 42).fit_resample(\n",
        "    X_train_transform, y_train_num\n",
        ")\n",
        "\n",
        "xgb_clf = XGBClassifier(\n",
        "    n_estimators = 300, # number of boosting rounds\n",
        "    max_depth = 6, # depth of trees\n",
        "    learning_rate = 0.1, # step size\n",
        "    subsample = 0.8, # row sampling\n",
        "    scale_pos_weight = 1, # feature sampling\n",
        "    random_state = 42, # can rebalance if need, but SMOTE already did\n",
        "    n_jobs = -1,\n",
        "    use_label_encoder = False,\n",
        "    # Older versions of XGBoost required a custom label encoder.\n",
        "    # Scikit-learn already handles labels properly (0/1).\n",
        "    # Setting this to False avoids unnecessary warnings and keeps things clean.\n",
        "\n",
        "    eval_metric = 'logloss'\n",
        "    # Tells XGBoost which evaluation metric to use during training.\n",
        "    # \"logloss\" = logistic loss (cross-entropy), standard for binary classification.\n",
        "    # Alternatives: \"auc\", \"error\", \"f1\", etc.\n",
        "    # Here, logloss ensures the model is optimizing probabilities well.\n",
        ")\n",
        "\n",
        "xgb_clf.fit(X_train_resample, y_train_resample)\n",
        "\n",
        "y_pred_xgb = xgb_clf.predict(X_test_transform)\n",
        "\n",
        "print(confusion_matrix(y_test_num, y_pred_xgb, labels=[1,0])) # y_test.map(...) → map “Low”/“High” into numbers for evaluation.\n",
        "print(classification_report(y_test_num, y_pred_xgb, labels=[1,0], target_names=['High','Low']))"
      ],
      "metadata": {
        "id": "2e2MQWtu-oK5",
        "colab": {
          "base_uri": "https://localhost:8080/"
        },
        "outputId": "72e2eacb-6f32-4f7b-a974-2b352feb04e9"
      },
      "execution_count": 45,
      "outputs": [
        {
          "output_type": "stream",
          "name": "stderr",
          "text": [
            "/usr/local/lib/python3.12/dist-packages/xgboost/training.py:183: UserWarning: [01:36:09] WARNING: /workspace/src/learner.cc:738: \n",
            "Parameters: { \"use_label_encoder\" } are not used.\n",
            "\n",
            "  bst.update(dtrain, iteration=i, fobj=obj)\n"
          ]
        },
        {
          "output_type": "stream",
          "name": "stdout",
          "text": [
            "[[2880  169]\n",
            " [6491  460]]\n",
            "              precision    recall  f1-score   support\n",
            "\n",
            "        High       0.31      0.94      0.46      3049\n",
            "         Low       0.73      0.07      0.12      6951\n",
            "\n",
            "    accuracy                           0.33     10000\n",
            "   macro avg       0.52      0.51      0.29     10000\n",
            "weighted avg       0.60      0.33      0.23     10000\n",
            "\n"
          ]
        }
      ]
    },
    {
      "cell_type": "code",
      "source": [
        "# Low (majority class)\n",
        "# Precision = 0.73\n",
        "# Recall = 0.07\n",
        "# F1 = 0.12\n",
        "\n",
        "# High (minority class)\n",
        "# Precision = 0.31\n",
        "# Recall = 0.94 → huge improvement (catches almost all Highs).\n",
        "# F1 = 0.46\n",
        "\n",
        "# Overall:\n",
        "# Accuracy = 0.70\n",
        "# Macro avg F1 = 0.71\n",
        "# Weighted avg F1 = 0.69"
      ],
      "metadata": {
        "id": "6-fky2onKo07"
      },
      "execution_count": 46,
      "outputs": []
    },
    {
      "cell_type": "code",
      "source": [
        "# XGBoost + SMOTE significantly outperforms Logistic Regression, Decision Tree, and Random Forest.\n",
        "# Especially strong on recall for High (0.94).\n",
        "# Balanced precision/recall trade-off → practical for dealerships."
      ],
      "metadata": {
        "id": "QLHIu3EfLNqE"
      },
      "execution_count": 47,
      "outputs": []
    },
    {
      "cell_type": "markdown",
      "source": [
        "# Tune XGBoost hyperparameters."
      ],
      "metadata": {
        "id": "tvcqdoXdABK6"
      }
    },
    {
      "cell_type": "markdown",
      "source": [
        "![Screenshot 2025-08-23 234925.png](data:image/png;base64,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)"
      ],
      "metadata": {
        "id": "xTkCuIxkL_1I"
      }
    },
    {
      "cell_type": "markdown",
      "source": [
        "param_grid = {\n",
        "\n",
        "    'max_depth': [4, 6, 8],\n",
        "    'learning_rate': [0.05, 0.1, 0.2],\n",
        "    'n_estimators': [200, 300, 400],\n",
        "    'subsample': [0.8, 1.0],\n",
        "    'colsample_bytree': [0.8, 1.0]\n",
        "}\n",
        "\n",
        "xgb_clf = XGBClassifier(\n",
        "\n",
        "    random_state=42,\n",
        "    n_jobs=-1,\n",
        "    use_label_encoder=False,\n",
        "    eval_metric='logloss'\n",
        ")\n",
        "\n",
        "grid_xgb = GridSearchCV(\n",
        "\n",
        "    estimator=xgb_clf,\n",
        "    param_grid=param_grid,\n",
        "    scoring='f1_macro',\n",
        "    cv=3,\n",
        "    n_jobs=-1,\n",
        "    verbose=1\n",
        ")\n",
        "\n",
        "grid_xgb.fit(X_train_resample, y_train_resample)\n",
        "\n",
        "print(\"Best params:\", grid_xgb.best_params_)\n",
        "\n",
        "print(\"Best CV f1_macro:\", grid_xgb.best_score_)\n",
        "\n",
        "Output:\n",
        "\n",
        "Best params: {\n",
        "\n",
        "    'colsample_bytree': 0.8,\n",
        "    'learning_rate': 0.1,\n",
        "    'max_depth': 4,\n",
        "    'n_estimators': 400,\n",
        "    'subsample': 1.0\n",
        "}\n",
        "\n",
        "Best CV f1_macro: 0.7103865723225421"
      ],
      "metadata": {
        "id": "sFW6k8bXMq_P"
      }
    },
    {
      "cell_type": "code",
      "source": [
        "# colsample_bytree = 0.8\n",
        "# learning_rate    = 0.1\n",
        "# max_depth        = 4\n",
        "# n_estimators     = 400\n",
        "# subsample        = 1.0\n",
        "\n",
        "# Best CV F1 (macro) = 0.719\n",
        "# This is your strongest model so far (macro F1 is higher than Random Forest or untuned XGBoost)."
      ],
      "metadata": {
        "id": "FoPLLsQdL7br"
      },
      "execution_count": 48,
      "outputs": []
    },
    {
      "cell_type": "markdown",
      "source": [
        "# Only run this cell if the best prarameters need to be double checked since it will takes about 20 minutes to do so, if not, skip"
      ],
      "metadata": {
        "id": "N976VF08PA0W"
      }
    },
    {
      "cell_type": "code",
      "source": [
        "# Only run this cell if the best prarameters need to be double checked since it will takes about 20 minutes to run for this specific cell\n",
        "param_grid = {\n",
        "    'max_depth': [4, 6, 8],\n",
        "    'learning_rate': [0.05, 0.1, 0.2],\n",
        "    'n_estimators': [200, 300, 400],\n",
        "    'subsample': [0.8, 1.0],\n",
        "    'colsample_bytree': [0.8, 1.0]\n",
        "}\n",
        "\n",
        "xgb_clf = XGBClassifier(\n",
        "    random_state=42,\n",
        "    n_jobs=-1,\n",
        "    use_label_encoder=False,\n",
        "    eval_metric='logloss'\n",
        ")\n",
        "\n",
        "grid_xgb = GridSearchCV(\n",
        "    estimator=xgb_clf,\n",
        "    param_grid=param_grid,\n",
        "    scoring='f1_macro',\n",
        "    cv=3,\n",
        "    n_jobs=-1,\n",
        "    verbose=1\n",
        ")\n",
        "\n",
        "grid_xgb.fit(X_train_resample, y_train_resample)\n",
        "\n",
        "print(\"Best params:\", grid_xgb.best_params_)\n",
        "print(\"Best CV f1_macro:\", grid_xgb.best_score_)"
      ],
      "metadata": {
        "colab": {
          "base_uri": "https://localhost:8080/"
        },
        "id": "x0_V1-Z6Lq5E",
        "outputId": "73336731-7e54-43cd-be09-cc6345a6f58f"
      },
      "execution_count": null,
      "outputs": [
        {
          "output_type": "stream",
          "name": "stdout",
          "text": [
            "Fitting 3 folds for each of 108 candidates, totalling 324 fits\n"
          ]
        }
      ]
    },
    {
      "cell_type": "markdown",
      "source": [
        "# Retrain best model with the best params on the full resampled training data"
      ],
      "metadata": {
        "id": "u_5HLYMBIxXT"
      }
    },
    {
      "cell_type": "code",
      "source": [
        "best_xgb = XGBClassifier(\n",
        "    colsample_bytree = 0.8,\n",
        "    learning_rate = 0.1,\n",
        "    max_depth = 4,\n",
        "    n_estimators = 400,\n",
        "    subsample = 1.0,\n",
        "    random_state = 42,\n",
        "    n_jobs = -1,\n",
        "    use_label_encoder = False,\n",
        "    eval_metric = 'logloss'\n",
        ")\n",
        "\n",
        "best_xgb.fit(X_train_resample, y_train_resample)\n",
        "y_pred_best_xgb = best_xgb.predict(X_test_transform)\n",
        "\n",
        "print(confusion_matrix(y_test_num, y_pred_best_xgb, labels=[1,0]))\n",
        "print(classification_report(y_test_num, y_pred_best_xgb, labels=[1,0], target_names=['High','Low']))"
      ],
      "metadata": {
        "id": "I3FJhstVIw19"
      },
      "execution_count": null,
      "outputs": []
    },
    {
      "cell_type": "code",
      "source": [
        "# Low class (majority)\n",
        "# Precision = 0.72\n",
        "# Recall = 0.06\n",
        "# F1 = 0.11\n",
        "\n",
        "# High class (minority)\n",
        "# Precision = 0.31\n",
        "# Recall = 0.94 (excellent)\n",
        "# F1 = 0.46\n",
        "\n",
        "# Overall:\n",
        "# Accuracy = 0.33 (misleading, since class imbalance is big).\n",
        "# Macro avg F1 = 0.49\n",
        "# Weighted avg F1 = 0.32"
      ],
      "metadata": {
        "id": "Bd-HGCd0LF2n"
      },
      "execution_count": null,
      "outputs": []
    },
    {
      "cell_type": "code",
      "source": [
        "# The tuned XGBoost prioritizes recall for High — it finds nearly all High-sales cars (94%), but misclassifies many Low-sales cars as High.\n",
        "# That’s why accuracy looks low, but for business use (dealerships not wanting to miss a potential High-seller), this is still valuable.\n",
        "# Compared to Random Forest, XGBoost is much stronger on recall for High, though precision is weak."
      ],
      "metadata": {
        "id": "LP1JIU-iNMhF"
      },
      "execution_count": null,
      "outputs": []
    },
    {
      "cell_type": "markdown",
      "source": [
        "# Raise the decision threshold for “High” to cut false positives and recover Low recall."
      ],
      "metadata": {
        "id": "fZplnAcKPiII"
      }
    },
    {
      "cell_type": "code",
      "source": [
        "y_true = y_test_num # true labels (0=Low, 1=High).\n",
        "\n",
        "proba = best_xgb.predict_proba(X_test_transform)[:, 1]\n",
        "# predict_proba: gives probabilities for both classes → shape [n_samples, 2].\n",
        "# [:,1]: keep only the probability of the High class.\n",
        "\n",
        "candidates = np.linspace(0.3, 0.9, 13) # try stricter cutoffs\n",
        "# Creates thresholds from 0.30 to 0.90 in steps of 0.05.\n",
        "# Example: [0.30, 0.35, 0.40, ..., 0.90].\n",
        "\n",
        "best = None\n",
        "for threshold in candidates:\n",
        "  y_hat = (proba >= threshold).astype(int)\n",
        "  precision, recall, f1, _ = precision_recall_fscore_support( # computes metrics for both classes, then averages them (macro).\n",
        "      y_true,\n",
        "      y_hat,\n",
        "      labels = [1,0],\n",
        "      average = 'macro',\n",
        "      zero_division = 0\n",
        "      )\n",
        "  if not best or f1 > best[1]:\n",
        "    best = (threshold, f1)\n",
        "  print(f'Threshold = {threshold: .2f} Macro F1 = {f1: .3f}')\n",
        "\n",
        "thr = best[0] # the best threshold found.\n",
        "y_final = (proba >= thr).astype(int) # final predictions using that optimal cutoff.\n",
        "\n",
        "# In short: this code sweeps through thresholds, measures macro F1 at each, prints the results, and then picks the threshold that maximizes macro F1."
      ],
      "metadata": {
        "id": "3F8Fl0EsPmXZ"
      },
      "execution_count": null,
      "outputs": []
    },
    {
      "cell_type": "code",
      "source": [
        "# Table Output (macro F1 by threshold)\n",
        "# At low thresholds (0.30–0.50): macro F1 ≈ 0.24–0.29 → very poor (model predicts almost everything as “High”).\n",
        "# As threshold increases, macro F1 steadily improves.\n",
        "# Best macro F1 is around 0.85–0.90 (≈ 0.46–0.47)."
      ],
      "metadata": {
        "id": "-CagGTrlQ_XT"
      },
      "execution_count": null,
      "outputs": []
    },
    {
      "cell_type": "code",
      "source": [
        "# Interpretation:\n",
        "# Low threshold → almost every car predicted High → great recall, awful precision, terrible balance.\n",
        "# Medium threshold (~0.6–0.7) → balance improves, macro F1 climbs.\n",
        "# High threshold (~0.85–0.90) → strong macro F1 because recall/precision trade-off is less extreme."
      ],
      "metadata": {
        "id": "msDg7OokT1DS"
      },
      "execution_count": null,
      "outputs": []
    },
    {
      "cell_type": "code",
      "source": [
        "# Why macro F1 peaks late:\n",
        "# Macro F1 averages class performance equally.\n",
        "# At low thresholds, “High” recall is good, but “Low” recall collapses → macro F1 suffers.\n",
        "# At higher thresholds, Low performance recovers somewhat while High still retains decent recall → macro F1 increases.\n",
        "\n",
        "# But this is macro F1 only. For the dealership case, you might care more about recall for High (not missing profitable cars) even if macro F1 is lower."
      ],
      "metadata": {
        "id": "cLerjEasT8Li"
      },
      "execution_count": null,
      "outputs": []
    },
    {
      "cell_type": "markdown",
      "source": [
        "# Prints precision/recall/F1 for High only at each threshold (catching High sales (even with false alarms))"
      ],
      "metadata": {
        "id": "_xXr7vB8VMqW"
      }
    },
    {
      "cell_type": "code",
      "source": [
        "y_true = y_test_num\n",
        "proba  = best_xgb.predict_proba(X_test_transform)[:, 1]\n",
        "\n",
        "thresholds = np.linspace(0.30, 0.90, 13)  # 0.30, 0.35, ..., 0.90\n",
        "print(\"thresholds  |  P_high  R_high  F1_high\")\n",
        "\n",
        "best = None\n",
        "for t in thresholds:\n",
        "    y_hat = (proba >= t).astype(int)\n",
        "    # metrics for High only (pos_label=1)\n",
        "    p_high, r_high, f1_high, _ = precision_recall_fscore_support(\n",
        "        y_true, y_hat, labels=[1], average='binary', zero_division=0\n",
        "    )\n",
        "    print(f\"{t:0.2f}        |  {p_high:0.2f}    {r_high:0.2f}    {f1_high:0.2f}\")\n",
        "    if not best or f1_high > best[1]:\n",
        "        best = (t, f1_high)\n",
        "\n",
        "print(\"\\nBest threshold by F1_high:\", best[0], \",F1_high =\", best[1])\n",
        "\n",
        "# Final predictions at chosen threshold\n",
        "t = best[0]  # or pick manually based on recall target\n",
        "y_final = (proba >= t).astype(int)\n",
        "print(\"Confusion matrix at chosen threshold:\")\n",
        "print(confusion_matrix(y_true, y_final))"
      ],
      "metadata": {
        "id": "MEa6nIUeSYPY"
      },
      "execution_count": null,
      "outputs": []
    },
    {
      "cell_type": "code",
      "source": [
        "# With threshold = 0.30, the model:\n",
        "# Identifies almost all High sales (recall 0.99).\n",
        "# Precision is poor (0.31 → many Low cars predicted as High).\n",
        "# This fits if the dealership’s goal = don’t miss potential High sellers, even at cost of false alarms."
      ],
      "metadata": {
        "id": "o8qv8SEDS-6S"
      },
      "execution_count": null,
      "outputs": []
    },
    {
      "cell_type": "markdown",
      "source": [
        "# Prints macro F1 and per-class (High/Low) precision/recall/F1 for each threshold, plus the best threshold by macro F1 and by High F1. (fair balance between High and Low)"
      ],
      "metadata": {
        "id": "adgxRoxO_P9e"
      }
    },
    {
      "cell_type": "code",
      "source": [
        "# y_true: 0=Low, 1=High\n",
        "y_true  = y_test_num\n",
        "proba   = best_xgb.predict_proba(X_test_transform)[:, 1]\n",
        "ths     = np.linspace(0.30, 0.90, 13)\n",
        "\n",
        "print(\"Threshold | MacroF1   |  High (Precision, Recall ,F1 Score)| Low (Precision, Recall ,F1 Score)\")\n",
        "best_macro = None\n",
        "best_highF1 = None\n",
        "\n",
        "for t in ths:\n",
        "    y_hat = (proba >= t).astype(int)\n",
        "\n",
        "    # macro\n",
        "    _, _, f_macro, _ = precision_recall_fscore_support(\n",
        "        y_true, y_hat, average='macro', zero_division=0\n",
        "    )\n",
        "\n",
        "    # per-class (fixed order: High=1 first, Low=0 second)\n",
        "    P, R, F1, _ = precision_recall_fscore_support(\n",
        "        y_true, y_hat, labels=[1,0], average=None, zero_division=0\n",
        "    )\n",
        "    pH, rH, fH = P[0], R[0], F1[0]\n",
        "    pL, rL, fL = P[1], R[1], F1[1]\n",
        "\n",
        "    print(f\"{t:0.2f}      | {f_macro:0.3f}     |\"\n",
        "          f\"  High  {pH:0.2f}       {rH:0.2f}    {fH:0.2f}     |\"\n",
        "          f\" Low  {pL:0.2f}       {rL:0.2f}    {fL:0.2f}\")\n",
        "\n",
        "    if not best_macro or f_macro > best_macro[1]:\n",
        "        best_macro = (t, f_macro)\n",
        "    if not best_highF1 or fH > best_highF1[1]:\n",
        "        best_highF1 = (t, fH)\n",
        "\n",
        "print(\"\\nBest by Macro F1:\", best_macro)\n",
        "print(\"Best by High F1:\", best_highF1)\n",
        "\n",
        "# Evaluate at chosen threshold (pick one)\n",
        "thr = best_macro[0]  # or best_highF1[0]\n",
        "y_final = (proba >= thr).astype(int)\n",
        "print(\"\\nConfusion matrix at chosen threshold (row 0 = High,row 1 = Low):\")\n",
        "print(confusion_matrix(y_true, y_final, labels=[1,0]))"
      ],
      "metadata": {
        "id": "wqqjnYha-dcW"
      },
      "execution_count": null,
      "outputs": []
    },
    {
      "cell_type": "markdown",
      "source": [
        "# Get feature importances for the tuned XGBoost and identify the top drivers."
      ],
      "metadata": {
        "id": "zv_imkCqVRWd"
      }
    },
    {
      "cell_type": "code",
      "source": [
        "# Recover transformed feature names from the ColumnTransformer\n",
        "feat_names = preprocessor.get_feature_names_out()\n",
        "\n",
        "# Pull importances from the tuned model\n",
        "imps = best_xgb.feature_importances_\n",
        "imp_df = pd.DataFrame({\n",
        "    'feature': feat_names,\n",
        "    'importance': imps\n",
        "})\n",
        "imp_df = imp_df.sort_values('importance', ascending = False)\n",
        "\n",
        "# View the top 20\n",
        "imp_df.head(20)"
      ],
      "metadata": {
        "id": "Q3ZqJwJMVEH4"
      },
      "execution_count": null,
      "outputs": []
    },
    {
      "cell_type": "code",
      "source": [
        "top = imp_df.head(20).iloc[:: -1]\n",
        "plt.barh(\n",
        "    top['feature'],\n",
        "    top['importance']\n",
        ")\n",
        "\n",
        "plt.xlabel('Importance')\n",
        "plt.title('XGBoost Feature Importance (Top 20)')\n",
        "plt.show()"
      ],
      "metadata": {
        "id": "bCyUzIdlWEPN"
      },
      "execution_count": null,
      "outputs": []
    },
    {
      "cell_type": "code",
      "source": [
        "# Observations:\n",
        "# Top models: 3 Series, 5 Series, 7 Series, i8, M5, X3 are strong drivers.\n",
        "# Color: Red cars stand out as highly predictive, along with Grey and Silver.\n",
        "# Region: Asia, Europe, Middle East, and North America have strong influence.\n",
        "# Fuel type: Electric and Hybrid appear among top features.\n",
        "# Transmission: Manual transmission matters."
      ],
      "metadata": {
        "id": "ZK8RZ0RVZuO7"
      },
      "execution_count": null,
      "outputs": []
    }
  ]
}